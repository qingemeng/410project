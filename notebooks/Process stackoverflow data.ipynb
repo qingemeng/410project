{
 "cells": [
  {
   "cell_type": "markdown",
   "metadata": {},
   "source": [
    "# Process stackoverflow data"
   ]
  },
  {
   "cell_type": "code",
   "execution_count": 237,
   "metadata": {},
   "outputs": [
    {
     "name": "stdout",
     "output_type": "stream",
     "text": [
      "The autoreload extension is already loaded. To reload it, use:\n",
      "  %reload_ext autoreload\n"
     ]
    }
   ],
   "source": [
    "%load_ext autoreload\n",
    "%autoreload 2\n",
    "\n",
    "from google.cloud import bigquery\n",
    "import ast\n",
    "import glob\n",
    "import re\n",
    "from pathlib import Path\n",
    "\n",
    "import astor\n",
    "import pandas as pd\n",
    "import spacy\n",
    "from tqdm import tqdm\n",
    "from nltk.tokenize import RegexpTokenizer\n",
    "from sklearn.model_selection import train_test_split\n",
    "\n",
    "from general_utils import apply_parallel, flattenlist\n",
    "from bs4 import BeautifulSoup\n",
    "\n",
    "EN = spacy.load('en')\n",
    "pd.set_option('display.max_colwidth', -1)"
   ]
  },
  {
   "cell_type": "code",
   "execution_count": 238,
   "metadata": {},
   "outputs": [],
   "source": [
    "use_cache = False"
   ]
  },
  {
   "cell_type": "code",
   "execution_count": 239,
   "metadata": {},
   "outputs": [],
   "source": [
    "# TODO: use csv for now, fix credential issue\n",
    "# bigquery\n",
    "# https://console.cloud.google.com/bigquery?sq=784649123063:df10117d54ab4ef2a853ce5ba8e583dc\n",
    "\n",
    "# if use_cache == False: \n",
    "#     # get data from bigquery\n",
    "#     client = bigquery.Client()\n",
    "#     sql = \"\"\"\n",
    "#     SELECT id, body, last_activity_date, score, text as comment\n",
    "#     FROM `bigquery-public-data.stackoverflow.posts_answers` as answer\n",
    "#     JOIN (SELECT post_id, text from `bigquery-public-data.stackoverflow.comments`) as c on c.post_id = answer.id\n",
    "#     WHERE \n",
    "#     ( Date(last_activity_date) >= Date(\"2015-01-01\")\n",
    "#       AND \n",
    "#       answer.parent_id IN (\n",
    "#         SELECT id FROM `bigquery-public-data.stackoverflow.posts_questions`\n",
    "#         WHERE LOWER(tags) LIKE '%python%'\n",
    "#       ))\n",
    "\n",
    "#     \"\"\"\n",
    "#     df = client.query(sql).to_dataframe()\n",
    "#     df.to_csv(\"data/processed_data/stackoverflow/raw.csv\")"
   ]
  },
  {
   "cell_type": "markdown",
   "metadata": {},
   "source": [
    "# Read from csv files"
   ]
  },
  {
   "cell_type": "code",
   "execution_count": 250,
   "metadata": {},
   "outputs": [
    {
     "name": "stdout",
     "output_type": "stream",
     "text": [
      "CPU times: user 21.4 s, sys: 2.43 s, total: 23.8 s\n",
      "Wall time: 23.8 s\n"
     ]
    }
   ],
   "source": [
    "%%time\n",
    "# read from csv\n",
    "df = pd.concat([pd.read_csv(f\"data/stackoverflow/processed_data/raw/raw-{i}.csv\") for i in range(4)])"
   ]
  },
  {
   "cell_type": "code",
   "execution_count": 251,
   "metadata": {},
   "outputs": [
    {
     "data": {
      "text/html": [
       "<div>\n",
       "<style scoped>\n",
       "    .dataframe tbody tr th:only-of-type {\n",
       "        vertical-align: middle;\n",
       "    }\n",
       "\n",
       "    .dataframe tbody tr th {\n",
       "        vertical-align: top;\n",
       "    }\n",
       "\n",
       "    .dataframe thead th {\n",
       "        text-align: right;\n",
       "    }\n",
       "</style>\n",
       "<table border=\"1\" class=\"dataframe\">\n",
       "  <thead>\n",
       "    <tr style=\"text-align: right;\">\n",
       "      <th></th>\n",
       "      <th>id</th>\n",
       "      <th>body</th>\n",
       "      <th>last_activity_date</th>\n",
       "      <th>score</th>\n",
       "      <th>comment</th>\n",
       "    </tr>\n",
       "  </thead>\n",
       "  <tbody>\n",
       "    <tr>\n",
       "      <th>0</th>\n",
       "      <td>33734452</td>\n",
       "      <td>&lt;p&gt;You can call &lt;code&gt;apply&lt;/code&gt; and convert your dict values into a set can convert the &lt;code&gt;intersection&lt;/code&gt; to a list:&lt;/p&gt;\\n\\n&lt;pre&gt;&lt;code&gt;In [15]:\\nd={'a': ['j','c'],\\n 'b': ['p','r','q'],\\n 'c': ['n','k','l','x','a']}\\nd\\n\\nOut[15]:\\n{'a': ['j', 'c'], 'b': ['p', 'r', 'q'], 'c': ['n', 'k', 'l', 'x', 'a']}\\n\\nIn [17]:\\ndf['points'] = df.apply(lambda row: list(set(d[row['id']]).intersection(row['points'])), axis=1)\\ndf\\n\\nOut[17]:\\n  id  points\\n0  a     [c]\\n1  b      []\\n2  c  [a, x]\\n&lt;/code&gt;&lt;/pre&gt;\\n\\n&lt;p&gt;As to why you get an error, you're trying to call a &lt;code&gt;.str&lt;/code&gt; method on a Series that is a dtype list, they are not strings.&lt;/p&gt;</td>\n",
       "      <td>2015-11-16 11:37:21.32 UTC</td>\n",
       "      <td>1</td>\n",
       "      <td>I am getting a key error. Is there any other solution using the two dataframes i added to my post?</td>\n",
       "    </tr>\n",
       "    <tr>\n",
       "      <th>1</th>\n",
       "      <td>5099990</td>\n",
       "      <td>&lt;blockquote&gt;\\n  &lt;p&gt;One thing I've found really frustrating is that when you trap an import error you're really going down a deep rabbit hole right away.&lt;/p&gt;\\n&lt;/blockquote&gt;\\n\\n&lt;p&gt;Take the hint.&lt;/p&gt;\\n\\n&lt;p&gt;Do &lt;strong&gt;not&lt;/strong&gt; trap import errors ever.  The &lt;code&gt;manage.py&lt;/code&gt; example is not a best practice.&lt;/p&gt;\\n\\n&lt;p&gt;Do not do that.&lt;/p&gt;\\n\\n&lt;p&gt;import errors should be very, very rare.&lt;/p&gt;</td>\n",
       "      <td>2011-02-24 03:15:36.757 UTC</td>\n",
       "      <td>-1</td>\n",
       "      <td>@S.Lott - I don't mean me as the developer \"know\", I mean in the control I want my code to be able to \"know\" what import failed. Again, defer to Django. That helpful message could not be given, if you relied on Python's built-in exc handling.</td>\n",
       "    </tr>\n",
       "    <tr>\n",
       "      <th>2</th>\n",
       "      <td>22650931</td>\n",
       "      <td>&lt;p&gt;In your code sample, above &lt;code&gt;for rownum in range(1, r+1):&lt;/code&gt; place &lt;code&gt;buff = []&lt;/code&gt; so that:&lt;/p&gt;\\n\\n&lt;pre&gt;&lt;code&gt;buff = []\\nfor rownum in range(1, r+1):\\n&lt;/code&gt;&lt;/pre&gt;\\n\\n&lt;p&gt;Then, where you have &lt;code&gt;print(list_v)&lt;/code&gt; do the following:&lt;/p&gt;\\n\\n&lt;pre&gt;&lt;code&gt;buff.append(list_v)\\n&lt;/code&gt;&lt;/pre&gt;\\n\\n&lt;p&gt;Then your code sample will look like&lt;/p&gt;\\n\\n&lt;pre&gt;&lt;code&gt;def make_x_table_right (r,c):\\n   buff = []\\n    for rownum in range(1, r+1):\\n        list_v = []\\n        for colnum in range(1, c+1):\\n            v = colnum*rownum\\n            list_v.append(v)\\n        buff.append(list_v)\\n    return buff\\n&lt;/code&gt;&lt;/pre&gt;\\n\\n&lt;p&gt;Make sense? &lt;/p&gt;\\n\\n&lt;p&gt;Also, since your multiplication table is probably going to be square, I'd suggest just passing one parameter &lt;code&gt;n&lt;/code&gt; and using &lt;code&gt;n&lt;/code&gt; in place of &lt;code&gt;r&lt;/code&gt; and &lt;code&gt;c&lt;/code&gt;. One other thing, the list comprehension that another user posted as a one-liner comment is perfectly fine, too. Also, it's convention to use variables &lt;code&gt;i&lt;/code&gt; and &lt;code&gt;j&lt;/code&gt; for matrix loop identifiers. so instead of &lt;code&gt;rownum&lt;/code&gt; you'd say &lt;code&gt;i&lt;/code&gt; and &lt;code&gt;colnum&lt;/code&gt; you'd say &lt;code&gt;j&lt;/code&gt;.&lt;/p&gt;</td>\n",
       "      <td>2014-03-26 03:28:20.523 UTC</td>\n",
       "      <td>0</td>\n",
       "      <td>Yup, I thought his shorter method was really cool. But is it possible to actually return the list of lists in a column format? I can generate the horizontal list of lists easy.....</td>\n",
       "    </tr>\n",
       "    <tr>\n",
       "      <th>3</th>\n",
       "      <td>49524124</td>\n",
       "      <td>&lt;p&gt;Only one Change is need. And you can use django-import-export &lt;/p&gt;\\n\\n&lt;p&gt;&lt;strong&gt;models.py&lt;/strong&gt;&lt;/p&gt;\\n\\n&lt;pre&gt;&lt;code&gt;    class Compositions(models.Model):\\n        composer_key = models.ForeignKey(\\n            Composer,\\n            )\\n        composition = models.CharField(\\n            max_length=383,\\n            unique=False\\n            )\\n        date_created = models.DateTimeField(default=timezone.now)\\n\\n        class Meta(object):\\n            unique_together = (('composer_key','composition'),)\\n&lt;/code&gt;&lt;/pre&gt;\\n\\n&lt;p&gt;override save_instance with try. And ignore error when fail. \\n&lt;strong&gt;admin.py&lt;/strong&gt;&lt;/p&gt;\\n\\n&lt;pre&gt;&lt;code&gt;        class CompositionsResource(resources.ModelResource):\\n\\n            class Meta:\\n                model = Compositions\\n                skip_unchanged = True\\n                report_skipped = True\\n\\n            def save_instance(self, instance, using_transactions=True, dry_run=False):\\n                try:\\n                    super(CompositionsResource, self).save_instance(instance, using_transactions, dry_run)\\n                except IntegrityError:\\n                    pass\\n\\n        class CompositionsAdmin(ImportExportModelAdmin):\\n            resource_class = CompositionsResource\\n\\n        admin.site.register(Compositions, CompositionsAdmin)\\n&lt;/code&gt;&lt;/pre&gt;\\n\\n&lt;p&gt;and import this&lt;/p&gt;\\n\\n&lt;pre&gt;&lt;code&gt;from django.db import IntegrityError\\n&lt;/code&gt;&lt;/pre&gt;</td>\n",
       "      <td>2018-04-04 12:36:51.243 UTC</td>\n",
       "      <td>2</td>\n",
       "      <td>not save data to model from file. seems to save, but changes in the model are not</td>\n",
       "    </tr>\n",
       "    <tr>\n",
       "      <th>4</th>\n",
       "      <td>25811970</td>\n",
       "      <td>&lt;p&gt;If you can't find the source of the leak, you can work around it by having each of your workers only process a limited number of tasks. Once they've hit the task limit, you can then have them exit, and replace them with a new worker process. The built-in &lt;code&gt;multiprocessing.Pool&lt;/code&gt; object supports this via the &lt;a href=\"https://docs.python.org/2.7/library/multiprocessing.html#module-multiprocessing.pool\" rel=\"nofollow\"&gt;&lt;code&gt;maxtasksperchild&lt;/code&gt;&lt;/a&gt; keyword argument. You could do something similar:&lt;/p&gt;\\n\\n&lt;pre&gt;&lt;code&gt;import multiprocessing\\nimport threading\\n\\nclass WorkerPool(object):\\n    def __init__(self, workers=multiprocessing.cpu_count(),\\n                 maxtasksperchild=None, lock=multiprocessing.Semaphore(1)):\\n        self._lock = multiprocessing.Semaphore(1)\\n        self._max_tasks = maxtasksperchild\\n        self._workers = workers\\n        self._pool = []\\n        self._repopulate_pool()\\n        self._pool_monitor = threading.Thread(self._monitor_pool)\\n        self._pool_monitor.daemon = True\\n        self._pool_monitor.start()\\n\\n    def _monitor_pool(self):\\n        \"\"\" This runs in its own thread and monitors the pool. \"\"\"\\n        while True:\\n            self._maintain_pool()\\n            time.sleep(0.1)\\n\\n    def _maintain_pool(self):\\n        \"\"\" If any workers have exited, start a new one in its place. \"\"\"\\n        if self._join_exited_workers():\\n            self._repopulate_pool()\\n\\n    def _join_exited_workers(self):\\n        \"\"\" Find exited workers and join them. \"\"\"\\n        cleaned = False\\n        for i in reversed(range(len(self._pool))):\\n            worker = self._pool[i]\\n            if worker.exitcode is not None:\\n                # worker exited\\n                worker.join()\\n                cleaned = True\\n                del self._pool[i]\\n        return cleaned\\n\\n    def _repopulate_pool(self):\\n        \"\"\" Start new workers if any have exited. \"\"\"\\n        for i in range(self._workers - len(self._pool)):\\n            w = Worker(self._lock, self._max_tasks)\\n            self._pool.append(w)\\n            w.start()    \\n\\n\\nclass Worker(multiprocessing.Process):\\n\\n    def __init__(self, lock, max_tasks):\\n        multiprocesing.Process.__init__(self)\\n        self.lock = lock\\n        self.queue = Redis(..) # this is a redis based queue\\n        self.res_queue = Redis(...)\\n        self.max_tasks = max_tasks\\n\\n     def run():\\n         runs = 0\\n         while self.max_tasks and runs &amp;lt; self.max_tasks:\\n             job = self.queue.get(block=True)\\n             job.results = process(job)\\n             with self.lock:\\n                 post_process(self.res_queue, job)\\n            if self.max_tasks:\\n                 runs += 1\\n\\n\\ndef main():\\n    pool = WorkerPool(workers=4, maxtasksperchild=1000)\\n    # The program will block here since none of the workers are daemons.\\n    # It's not clear how/when you want to shut things down, but the Pool\\n    # can be enhanced to support that pretty easily.\\n&lt;/code&gt;&lt;/pre&gt;\\n\\n&lt;p&gt;Note that the pool monitoring code above is almost exactly the same as the code that's used in &lt;code&gt;multiprocessing.Pool&lt;/code&gt; for the same purpose.&lt;/p&gt;</td>\n",
       "      <td>2014-09-12 17:50:56.04 UTC</td>\n",
       "      <td>4</td>\n",
       "      <td>Nice explanation. One variation I've found useful once or twice is to make the processes recycle when they reach a certain peak memory usage instead of after a certain number of tasks. (In fact, that's one of the rare reasons I've had for writing my own pool instead of just using `futures` or `multiprocessing`…)</td>\n",
       "    </tr>\n",
       "  </tbody>\n",
       "</table>\n",
       "</div>"
      ],
      "text/plain": [
       "         id  \\\n",
       "0  33734452   \n",
       "1  5099990    \n",
       "2  22650931   \n",
       "3  49524124   \n",
       "4  25811970   \n",
       "\n",
       "                                                                                                                                                                                                                                                                                                                                                                                                                                                                                                                                                                                                                                                                                                                                                                                                                                                                                                                                                                                                                                                                                                                                                                                                                                                                                                                                                                                                                                                                                                                                                                                                                                                                                                                                                                                                                                                                                                                                                                                                                                                                                                                                                                                                                                                                                                                                                                                                                                                                                                                                                                                                                                                                                                                                                                                                                                                                                                                                                                                                                                                                                                                                                                                                                                                                                                                body  \\\n",
       "0  <p>You can call <code>apply</code> and convert your dict values into a set can convert the <code>intersection</code> to a list:</p>\\n\\n<pre><code>In [15]:\\nd={'a': ['j','c'],\\n 'b': ['p','r','q'],\\n 'c': ['n','k','l','x','a']}\\nd\\n\\nOut[15]:\\n{'a': ['j', 'c'], 'b': ['p', 'r', 'q'], 'c': ['n', 'k', 'l', 'x', 'a']}\\n\\nIn [17]:\\ndf['points'] = df.apply(lambda row: list(set(d[row['id']]).intersection(row['points'])), axis=1)\\ndf\\n\\nOut[17]:\\n  id  points\\n0  a     [c]\\n1  b      []\\n2  c  [a, x]\\n</code></pre>\\n\\n<p>As to why you get an error, you're trying to call a <code>.str</code> method on a Series that is a dtype list, they are not strings.</p>                                                                                                                                                                                                                                                                                                                                                                                                                                                                                                                                                                                                                                                                                                                                                                                                                                                                                                                                                                                                                                                                                                                                                                                                                                                                                                                                                                                                                                                                                                                                                                                                                                                                                                                                                                                                                                                                                                                                                                                                                                                                                                                                                                                                                                                                                                                                                                                                                                                                                                                                                                                                                                      \n",
       "1  <blockquote>\\n  <p>One thing I've found really frustrating is that when you trap an import error you're really going down a deep rabbit hole right away.</p>\\n</blockquote>\\n\\n<p>Take the hint.</p>\\n\\n<p>Do <strong>not</strong> trap import errors ever.  The <code>manage.py</code> example is not a best practice.</p>\\n\\n<p>Do not do that.</p>\\n\\n<p>import errors should be very, very rare.</p>                                                                                                                                                                                                                                                                                                                                                                                                                                                                                                                                                                                                                                                                                                                                                                                                                                                                                                                                                                                                                                                                                                                                                                                                                                                                                                                                                                                                                                                                                                                                                                                                                                                                                                                                                                                                                                                                                                                                                                                                                                                                                                                                                                                                                                                                                                                                                                                                                                                                                                                                                                                                                                                                                                                                                                                                                                                                                                            \n",
       "2  <p>In your code sample, above <code>for rownum in range(1, r+1):</code> place <code>buff = []</code> so that:</p>\\n\\n<pre><code>buff = []\\nfor rownum in range(1, r+1):\\n</code></pre>\\n\\n<p>Then, where you have <code>print(list_v)</code> do the following:</p>\\n\\n<pre><code>buff.append(list_v)\\n</code></pre>\\n\\n<p>Then your code sample will look like</p>\\n\\n<pre><code>def make_x_table_right (r,c):\\n   buff = []\\n    for rownum in range(1, r+1):\\n        list_v = []\\n        for colnum in range(1, c+1):\\n            v = colnum*rownum\\n            list_v.append(v)\\n        buff.append(list_v)\\n    return buff\\n</code></pre>\\n\\n<p>Make sense? </p>\\n\\n<p>Also, since your multiplication table is probably going to be square, I'd suggest just passing one parameter <code>n</code> and using <code>n</code> in place of <code>r</code> and <code>c</code>. One other thing, the list comprehension that another user posted as a one-liner comment is perfectly fine, too. Also, it's convention to use variables <code>i</code> and <code>j</code> for matrix loop identifiers. so instead of <code>rownum</code> you'd say <code>i</code> and <code>colnum</code> you'd say <code>j</code>.</p>                                                                                                                                                                                                                                                                                                                                                                                                                                                                                                                                                                                                                                                                                                                                                                                                                                                                                                                                                                                                                                                                                                                                                                                                                                                                                                                                                                                                                                                                                                                                                                                                                                                                                                                                                                                                                                                                                                                                                                                                                                                                                         \n",
       "3  <p>Only one Change is need. And you can use django-import-export </p>\\n\\n<p><strong>models.py</strong></p>\\n\\n<pre><code>    class Compositions(models.Model):\\n        composer_key = models.ForeignKey(\\n            Composer,\\n            )\\n        composition = models.CharField(\\n            max_length=383,\\n            unique=False\\n            )\\n        date_created = models.DateTimeField(default=timezone.now)\\n\\n        class Meta(object):\\n            unique_together = (('composer_key','composition'),)\\n</code></pre>\\n\\n<p>override save_instance with try. And ignore error when fail. \\n<strong>admin.py</strong></p>\\n\\n<pre><code>        class CompositionsResource(resources.ModelResource):\\n\\n            class Meta:\\n                model = Compositions\\n                skip_unchanged = True\\n                report_skipped = True\\n\\n            def save_instance(self, instance, using_transactions=True, dry_run=False):\\n                try:\\n                    super(CompositionsResource, self).save_instance(instance, using_transactions, dry_run)\\n                except IntegrityError:\\n                    pass\\n\\n        class CompositionsAdmin(ImportExportModelAdmin):\\n            resource_class = CompositionsResource\\n\\n        admin.site.register(Compositions, CompositionsAdmin)\\n</code></pre>\\n\\n<p>and import this</p>\\n\\n<pre><code>from django.db import IntegrityError\\n</code></pre>                                                                                                                                                                                                                                                                                                                                                                                                                                                                                                                                                                                                                                                                                                                                                                                                                                                                                                                                                                                                                                                                                                                                                                                                                                                                                                                                                                                                                                                                                                                                                                                                                                                                                                                                                                                                                                               \n",
       "4  <p>If you can't find the source of the leak, you can work around it by having each of your workers only process a limited number of tasks. Once they've hit the task limit, you can then have them exit, and replace them with a new worker process. The built-in <code>multiprocessing.Pool</code> object supports this via the <a href=\"https://docs.python.org/2.7/library/multiprocessing.html#module-multiprocessing.pool\" rel=\"nofollow\"><code>maxtasksperchild</code></a> keyword argument. You could do something similar:</p>\\n\\n<pre><code>import multiprocessing\\nimport threading\\n\\nclass WorkerPool(object):\\n    def __init__(self, workers=multiprocessing.cpu_count(),\\n                 maxtasksperchild=None, lock=multiprocessing.Semaphore(1)):\\n        self._lock = multiprocessing.Semaphore(1)\\n        self._max_tasks = maxtasksperchild\\n        self._workers = workers\\n        self._pool = []\\n        self._repopulate_pool()\\n        self._pool_monitor = threading.Thread(self._monitor_pool)\\n        self._pool_monitor.daemon = True\\n        self._pool_monitor.start()\\n\\n    def _monitor_pool(self):\\n        \"\"\" This runs in its own thread and monitors the pool. \"\"\"\\n        while True:\\n            self._maintain_pool()\\n            time.sleep(0.1)\\n\\n    def _maintain_pool(self):\\n        \"\"\" If any workers have exited, start a new one in its place. \"\"\"\\n        if self._join_exited_workers():\\n            self._repopulate_pool()\\n\\n    def _join_exited_workers(self):\\n        \"\"\" Find exited workers and join them. \"\"\"\\n        cleaned = False\\n        for i in reversed(range(len(self._pool))):\\n            worker = self._pool[i]\\n            if worker.exitcode is not None:\\n                # worker exited\\n                worker.join()\\n                cleaned = True\\n                del self._pool[i]\\n        return cleaned\\n\\n    def _repopulate_pool(self):\\n        \"\"\" Start new workers if any have exited. \"\"\"\\n        for i in range(self._workers - len(self._pool)):\\n            w = Worker(self._lock, self._max_tasks)\\n            self._pool.append(w)\\n            w.start()    \\n\\n\\nclass Worker(multiprocessing.Process):\\n\\n    def __init__(self, lock, max_tasks):\\n        multiprocesing.Process.__init__(self)\\n        self.lock = lock\\n        self.queue = Redis(..) # this is a redis based queue\\n        self.res_queue = Redis(...)\\n        self.max_tasks = max_tasks\\n\\n     def run():\\n         runs = 0\\n         while self.max_tasks and runs &lt; self.max_tasks:\\n             job = self.queue.get(block=True)\\n             job.results = process(job)\\n             with self.lock:\\n                 post_process(self.res_queue, job)\\n            if self.max_tasks:\\n                 runs += 1\\n\\n\\ndef main():\\n    pool = WorkerPool(workers=4, maxtasksperchild=1000)\\n    # The program will block here since none of the workers are daemons.\\n    # It's not clear how/when you want to shut things down, but the Pool\\n    # can be enhanced to support that pretty easily.\\n</code></pre>\\n\\n<p>Note that the pool monitoring code above is almost exactly the same as the code that's used in <code>multiprocessing.Pool</code> for the same purpose.</p>   \n",
       "\n",
       "            last_activity_date  score  \\\n",
       "0  2015-11-16 11:37:21.32 UTC   1       \n",
       "1  2011-02-24 03:15:36.757 UTC -1       \n",
       "2  2014-03-26 03:28:20.523 UTC  0       \n",
       "3  2018-04-04 12:36:51.243 UTC  2       \n",
       "4  2014-09-12 17:50:56.04 UTC   4       \n",
       "\n",
       "                                                                                                                                                                                                                                                                                                                     comment  \n",
       "0  I am getting a key error. Is there any other solution using the two dataframes i added to my post?                                                                                                                                                                                                                         \n",
       "1  @S.Lott - I don't mean me as the developer \"know\", I mean in the control I want my code to be able to \"know\" what import failed. Again, defer to Django. That helpful message could not be given, if you relied on Python's built-in exc handling.                                                                         \n",
       "2  Yup, I thought his shorter method was really cool. But is it possible to actually return the list of lists in a column format? I can generate the horizontal list of lists easy.....                                                                                                                                       \n",
       "3  not save data to model from file. seems to save, but changes in the model are not                                                                                                                                                                                                                                          \n",
       "4  Nice explanation. One variation I've found useful once or twice is to make the processes recycle when they reach a certain peak memory usage instead of after a certain number of tasks. (In fact, that's one of the rare reasons I've had for writing my own pool instead of just using `futures` or `multiprocessing`…)  "
      ]
     },
     "execution_count": 251,
     "metadata": {},
     "output_type": "execute_result"
    }
   ],
   "source": [
    "df.head()"
   ]
  },
  {
   "cell_type": "code",
   "execution_count": 252,
   "metadata": {},
   "outputs": [
    {
     "data": {
      "text/plain": [
       "(1522068, 5)"
      ]
     },
     "execution_count": 252,
     "metadata": {},
     "output_type": "execute_result"
    }
   ],
   "source": [
    "df.shape"
   ]
  },
  {
   "cell_type": "code",
   "execution_count": 253,
   "metadata": {},
   "outputs": [],
   "source": [
    "def tokenize_text(text):\n",
    "    \"Apply tokenization using spacy to docstrings.\"\n",
    "    tokens = EN.tokenizer(text)\n",
    "    return [token.text.lower() for token in tokens if not token.is_space]\n",
    "\n",
    "\n",
    "def tokenize_code(text):\n",
    "    \"A very basic procedure for tokenizing code strings.\"\n",
    "    return RegexpTokenizer(r'\\w+').tokenize(text)\n"
   ]
  },
  {
   "cell_type": "markdown",
   "metadata": {},
   "source": [
    "# Aggregate comments"
   ]
  },
  {
   "cell_type": "code",
   "execution_count": 254,
   "metadata": {},
   "outputs": [],
   "source": [
    "# concat comments for each post\n",
    "\n",
    "grouped = df.groupby(['id', 'body','last_activity_date','score'],as_index=False).comment.agg(lambda x: \"\\n\".join(x))\n",
    "deduped_df = pd.DataFrame(grouped)"
   ]
  },
  {
   "cell_type": "code",
   "execution_count": 255,
   "metadata": {},
   "outputs": [
    {
     "data": {
      "text/html": [
       "<div>\n",
       "<style scoped>\n",
       "    .dataframe tbody tr th:only-of-type {\n",
       "        vertical-align: middle;\n",
       "    }\n",
       "\n",
       "    .dataframe tbody tr th {\n",
       "        vertical-align: top;\n",
       "    }\n",
       "\n",
       "    .dataframe thead th {\n",
       "        text-align: right;\n",
       "    }\n",
       "</style>\n",
       "<table border=\"1\" class=\"dataframe\">\n",
       "  <thead>\n",
       "    <tr style=\"text-align: right;\">\n",
       "      <th></th>\n",
       "      <th>id</th>\n",
       "      <th>body</th>\n",
       "      <th>last_activity_date</th>\n",
       "      <th>score</th>\n",
       "      <th>comment</th>\n",
       "    </tr>\n",
       "  </thead>\n",
       "  <tbody>\n",
       "    <tr>\n",
       "      <th>0</th>\n",
       "      <td>538</td>\n",
       "      <td>&lt;p&gt;One possibility is Hudson.  It's written in Java, but there's integration with Python projects:&lt;/p&gt;\\n\\n&lt;blockquote&gt;\\n  &lt;p&gt;&lt;a href=\"http://redsolo.blogspot.com/2007/11/hudson-embraces-python.html\" rel=\"noreferrer\"&gt;Hudson embraces Python&lt;/a&gt;&lt;/p&gt;\\n&lt;/blockquote&gt;\\n\\n&lt;p&gt;I've never tried it myself, however.&lt;/p&gt;\\n\\n&lt;p&gt;(&lt;strong&gt;Update&lt;/strong&gt;, Sept. 2011: After a trademark dispute Hudson has been renamed to &lt;a href=\"http://jenkins-ci.org/\" rel=\"noreferrer\"&gt;Jenkins&lt;/a&gt;.)&lt;/p&gt;</td>\n",
       "      <td>2013-01-28 03:54:17.217 UTC</td>\n",
       "      <td>28</td>\n",
       "      <td>@dbr: Not totally true.  The language something is written in often influences the software it works with best... build systems especially.  When I looked at Hudson ~2 years ago it wanted unit test output only in JUnit's XML format; my Python unit test suite didn't do that.  But if my project were in Java, it would have worked out of the box.  In any case, it looks like integration has come a long way in both Hudson and Python's tools since then, and I am thankful for that.\\nHudson being written in Java is as relevant as your the editor you use being written in C++! It's just a very well written, easy to setup and generally fully featured CI tool. Python can be very well integrated, `nosetests --with-xunit --with-coverage`, pylint with the \"Violations\" plugins, and \"Cobertura\" for coverage\\nyep jenkins/hudson is perfectly fine, a breeze to set up.</td>\n",
       "    </tr>\n",
       "  </tbody>\n",
       "</table>\n",
       "</div>"
      ],
      "text/plain": [
       "    id  \\\n",
       "0  538   \n",
       "\n",
       "                                                                                                                                                                                                                                                                                                                                                                                                                                                                                        body  \\\n",
       "0  <p>One possibility is Hudson.  It's written in Java, but there's integration with Python projects:</p>\\n\\n<blockquote>\\n  <p><a href=\"http://redsolo.blogspot.com/2007/11/hudson-embraces-python.html\" rel=\"noreferrer\">Hudson embraces Python</a></p>\\n</blockquote>\\n\\n<p>I've never tried it myself, however.</p>\\n\\n<p>(<strong>Update</strong>, Sept. 2011: After a trademark dispute Hudson has been renamed to <a href=\"http://jenkins-ci.org/\" rel=\"noreferrer\">Jenkins</a>.)</p>   \n",
       "\n",
       "            last_activity_date  score  \\\n",
       "0  2013-01-28 03:54:17.217 UTC  28      \n",
       "\n",
       "                                                                                                                                                                                                                                                                                                                                                                                                                                                                                                                                                                                                                                                                                                                                                                                                                                                                                       comment  \n",
       "0  @dbr: Not totally true.  The language something is written in often influences the software it works with best... build systems especially.  When I looked at Hudson ~2 years ago it wanted unit test output only in JUnit's XML format; my Python unit test suite didn't do that.  But if my project were in Java, it would have worked out of the box.  In any case, it looks like integration has come a long way in both Hudson and Python's tools since then, and I am thankful for that.\\nHudson being written in Java is as relevant as your the editor you use being written in C++! It's just a very well written, easy to setup and generally fully featured CI tool. Python can be very well integrated, `nosetests --with-xunit --with-coverage`, pylint with the \"Violations\" plugins, and \"Cobertura\" for coverage\\nyep jenkins/hudson is perfectly fine, a breeze to set up.  "
      ]
     },
     "execution_count": 255,
     "metadata": {},
     "output_type": "execute_result"
    }
   ],
   "source": [
    "deduped_df.head(1)"
   ]
  },
  {
   "cell_type": "code",
   "execution_count": 256,
   "metadata": {},
   "outputs": [
    {
     "data": {
      "text/plain": [
       "(683233, 5)"
      ]
     },
     "execution_count": 256,
     "metadata": {},
     "output_type": "execute_result"
    }
   ],
   "source": [
    "deduped_df.shape"
   ]
  },
  {
   "cell_type": "markdown",
   "metadata": {},
   "source": [
    "# Extract text from post body"
   ]
  },
  {
   "cell_type": "code",
   "execution_count": 261,
   "metadata": {
    "scrolled": true
   },
   "outputs": [
    {
     "name": "stdout",
     "output_type": "stream",
     "text": [
      "CPU times: user 21min 36s, sys: 3.01 s, total: 21min 39s\n",
      "Wall time: 21min 39s\n"
     ]
    }
   ],
   "source": [
    "%%time\n",
    "\n",
    "content_list = []\n",
    "url_list = []\n",
    "\n",
    "for i, row in deduped_df.iterrows():\n",
    "    content = row.body\n",
    "    soup = BeautifulSoup(content, 'lxml')\n",
    "    if soup.code: soup.code.decompose()\n",
    "    tag_p = soup.p\n",
    "    tag_pre = soup.pre\n",
    "    text = ''\n",
    "    if tag_p: text = text + tag_p.get_text()\n",
    "    if tag_pre: text = text + tag_pre.get_text()\n",
    "    if text =='': \n",
    "        continue\n",
    "    tokens = tokenize_text(text)\n",
    "    if len(tokens) <=3:\n",
    "        continue\n",
    "        \n",
    "    content_list.append(' '.join(tokens))\n",
    "    url_list.append('https://stackoverflow.com/a/' + str(row.id))\n",
    "\n",
    "\n",
    "content_token_df = pd.DataFrame({'content_token': content_list, 'url': url_list})"
   ]
  },
  {
   "cell_type": "code",
   "execution_count": 262,
   "metadata": {},
   "outputs": [
    {
     "data": {
      "text/html": [
       "<div>\n",
       "<style scoped>\n",
       "    .dataframe tbody tr th:only-of-type {\n",
       "        vertical-align: middle;\n",
       "    }\n",
       "\n",
       "    .dataframe tbody tr th {\n",
       "        vertical-align: top;\n",
       "    }\n",
       "\n",
       "    .dataframe thead th {\n",
       "        text-align: right;\n",
       "    }\n",
       "</style>\n",
       "<table border=\"1\" class=\"dataframe\">\n",
       "  <thead>\n",
       "    <tr style=\"text-align: right;\">\n",
       "      <th></th>\n",
       "      <th>content_token</th>\n",
       "      <th>url</th>\n",
       "    </tr>\n",
       "  </thead>\n",
       "  <tbody>\n",
       "    <tr>\n",
       "      <th>0</th>\n",
       "      <td>one possibility is hudson . it 's written in java , but there 's integration with python projects :</td>\n",
       "      <td>https://stackoverflow.com/a/538</td>\n",
       "    </tr>\n",
       "    <tr>\n",
       "      <th>1</th>\n",
       "      <td>can you show us your code ?</td>\n",
       "      <td>https://stackoverflow.com/a/783</td>\n",
       "    </tr>\n",
       "    <tr>\n",
       "      <th>2</th>\n",
       "      <td>the output of platform.system ( ) is as follows :</td>\n",
       "      <td>https://stackoverflow.com/a/1857</td>\n",
       "    </tr>\n",
       "    <tr>\n",
       "      <th>3</th>\n",
       "      <td>dang -- lbrandy beat me to the punch , but that does n't mean i ca n't provide you with the system results for vista !</td>\n",
       "      <td>https://stackoverflow.com/a/1871</td>\n",
       "    </tr>\n",
       "    <tr>\n",
       "      <th>4</th>\n",
       "      <td>the list is dynamic and flexible but that flexibility comes at a speed cost .</td>\n",
       "      <td>https://stackoverflow.com/a/1987</td>\n",
       "    </tr>\n",
       "  </tbody>\n",
       "</table>\n",
       "</div>"
      ],
      "text/plain": [
       "                                                                                                            content_token  \\\n",
       "0  one possibility is hudson . it 's written in java , but there 's integration with python projects :                      \n",
       "1  can you show us your code ?                                                                                              \n",
       "2  the output of platform.system ( ) is as follows :                                                                        \n",
       "3  dang -- lbrandy beat me to the punch , but that does n't mean i ca n't provide you with the system results for vista !   \n",
       "4  the list is dynamic and flexible but that flexibility comes at a speed cost .                                            \n",
       "\n",
       "                                url  \n",
       "0  https://stackoverflow.com/a/538   \n",
       "1  https://stackoverflow.com/a/783   \n",
       "2  https://stackoverflow.com/a/1857  \n",
       "3  https://stackoverflow.com/a/1871  \n",
       "4  https://stackoverflow.com/a/1987  "
      ]
     },
     "execution_count": 262,
     "metadata": {},
     "output_type": "execute_result"
    }
   ],
   "source": [
    "content_token_df.head()"
   ]
  },
  {
   "cell_type": "code",
   "execution_count": 263,
   "metadata": {},
   "outputs": [
    {
     "data": {
      "text/plain": [
       "(644466, 2)"
      ]
     },
     "execution_count": 263,
     "metadata": {},
     "output_type": "execute_result"
    }
   ],
   "source": [
    "content_token_df.shape"
   ]
  },
  {
   "cell_type": "markdown",
   "metadata": {},
   "source": [
    "# Partition train/test/validate data"
   ]
  },
  {
   "cell_type": "code",
   "execution_count": 264,
   "metadata": {},
   "outputs": [
    {
     "name": "stderr",
     "output_type": "stream",
     "text": [
      "/opt/conda/lib/python3.6/site-packages/sklearn/model_selection/_split.py:2026: FutureWarning: From version 0.21, test_size will always complement train_size unless both are specified.\n",
      "  FutureWarning)\n"
     ]
    }
   ],
   "source": [
    "# train, valid, test splits\n",
    "train, test = train_test_split(list(content_token_df.groupby('url')), train_size=0.87, shuffle=True, random_state=8081)\n",
    "train, valid = train_test_split(train, train_size=0.82, random_state=8081)"
   ]
  },
  {
   "cell_type": "code",
   "execution_count": 265,
   "metadata": {},
   "outputs": [],
   "source": [
    "train = pd.concat([d for _, d in train]).reset_index(drop=True)\n",
    "test = pd.concat([d for _, d in test]).reset_index(drop=True)\n",
    "valid = pd.concat([d for _, d in valid]).reset_index(drop=True)"
   ]
  },
  {
   "cell_type": "code",
   "execution_count": 266,
   "metadata": {},
   "outputs": [
    {
     "data": {
      "text/html": [
       "<div>\n",
       "<style scoped>\n",
       "    .dataframe tbody tr th:only-of-type {\n",
       "        vertical-align: middle;\n",
       "    }\n",
       "\n",
       "    .dataframe tbody tr th {\n",
       "        vertical-align: top;\n",
       "    }\n",
       "\n",
       "    .dataframe thead th {\n",
       "        text-align: right;\n",
       "    }\n",
       "</style>\n",
       "<table border=\"1\" class=\"dataframe\">\n",
       "  <thead>\n",
       "    <tr style=\"text-align: right;\">\n",
       "      <th></th>\n",
       "      <th>content_token</th>\n",
       "      <th>url</th>\n",
       "    </tr>\n",
       "  </thead>\n",
       "  <tbody>\n",
       "    <tr>\n",
       "      <th>0</th>\n",
       "      <td>this is not a valid json string . use double quotes :</td>\n",
       "      <td>https://stackoverflow.com/a/6462436</td>\n",
       "    </tr>\n",
       "    <tr>\n",
       "      <th>1</th>\n",
       "      <td>this is not a regular sentence where words are joined with an underscore . since you are just checking if the word is present , you may either remove ( as it is matching on a word boundary and _ is a word character ! ) or add alternatives : import re my_other_string = ' the_boat_has_sunk ' my_list = [ ' car ' , ' boat ' , ' truck ' ] my_list = re.compile(r'(?:\\b|_)(?:%s)(?=\\b|_ ) ' % ' |'.join(my_list ) ) if re.search(my_list , my_other_string ) : print('yay ' )</td>\n",
       "      <td>https://stackoverflow.com/a/30383962</td>\n",
       "    </tr>\n",
       "    <tr>\n",
       "      <th>2</th>\n",
       "      <td>lists are zero indexed , so you need to set</td>\n",
       "      <td>https://stackoverflow.com/a/37092245</td>\n",
       "    </tr>\n",
       "    <tr>\n",
       "      <th>3</th>\n",
       "      <td>in this case , a simple solution is to use dictionary comprehension :</td>\n",
       "      <td>https://stackoverflow.com/a/47307980</td>\n",
       "    </tr>\n",
       "    <tr>\n",
       "      <th>4</th>\n",
       "      <td>it is likely your input file exceeds the soft memory limit in size . for big files use either or blobstoreziplineinputreader.def time_count_map(data ) : \" \" \" time count map function . \" \" \" text = data[1 ] try : reader = csv.reader([text.replace('\\0 ' , ' ' ) ] , skipinitialspace = true ) for s in reader : \" \" \" calculate time elapsed \" \" \" sdw = s[1 ] start_date = time.strptime(sdw,\"%m/%d/%y % i:%m:%s%p \" ) edw = s[2 ] end_date = time.strptime(edw,\"%m/%d/%y % i:%m:%s%p \" ) time_difference = time.mktime(end_date ) - time.mktime(start_date ) yield ( s[0 ] , time_difference ) except indexerror , e : logging.debug(e )</td>\n",
       "      <td>https://stackoverflow.com/a/9256062</td>\n",
       "    </tr>\n",
       "  </tbody>\n",
       "</table>\n",
       "</div>"
      ],
      "text/plain": [
       "                                                                                                                                                                                                                                                                                                                                                                                                                                                                                                                                                                                                                                     content_token  \\\n",
       "0  this is not a valid json string . use double quotes :                                                                                                                                                                                                                                                                                                                                                                                                                                                                                                                                                                                             \n",
       "1  this is not a regular sentence where words are joined with an underscore . since you are just checking if the word is present , you may either remove ( as it is matching on a word boundary and _ is a word character ! ) or add alternatives : import re my_other_string = ' the_boat_has_sunk ' my_list = [ ' car ' , ' boat ' , ' truck ' ] my_list = re.compile(r'(?:\\b|_)(?:%s)(?=\\b|_ ) ' % ' |'.join(my_list ) ) if re.search(my_list , my_other_string ) : print('yay ' )                                                                                                                                                                \n",
       "2  lists are zero indexed , so you need to set                                                                                                                                                                                                                                                                                                                                                                                                                                                                                                                                                                                                       \n",
       "3  in this case , a simple solution is to use dictionary comprehension :                                                                                                                                                                                                                                                                                                                                                                                                                                                                                                                                                                             \n",
       "4  it is likely your input file exceeds the soft memory limit in size . for big files use either or blobstoreziplineinputreader.def time_count_map(data ) : \" \" \" time count map function . \" \" \" text = data[1 ] try : reader = csv.reader([text.replace('\\0 ' , ' ' ) ] , skipinitialspace = true ) for s in reader : \" \" \" calculate time elapsed \" \" \" sdw = s[1 ] start_date = time.strptime(sdw,\"%m/%d/%y % i:%m:%s%p \" ) edw = s[2 ] end_date = time.strptime(edw,\"%m/%d/%y % i:%m:%s%p \" ) time_difference = time.mktime(end_date ) - time.mktime(start_date ) yield ( s[0 ] , time_difference ) except indexerror , e : logging.debug(e )   \n",
       "\n",
       "                                    url  \n",
       "0  https://stackoverflow.com/a/6462436   \n",
       "1  https://stackoverflow.com/a/30383962  \n",
       "2  https://stackoverflow.com/a/37092245  \n",
       "3  https://stackoverflow.com/a/47307980  \n",
       "4  https://stackoverflow.com/a/9256062   "
      ]
     },
     "execution_count": 266,
     "metadata": {},
     "output_type": "execute_result"
    }
   ],
   "source": [
    "train.head()"
   ]
  },
  {
   "cell_type": "code",
   "execution_count": 267,
   "metadata": {},
   "outputs": [
    {
     "data": {
      "text/html": [
       "<div>\n",
       "<style scoped>\n",
       "    .dataframe tbody tr th:only-of-type {\n",
       "        vertical-align: middle;\n",
       "    }\n",
       "\n",
       "    .dataframe tbody tr th {\n",
       "        vertical-align: top;\n",
       "    }\n",
       "\n",
       "    .dataframe thead th {\n",
       "        text-align: right;\n",
       "    }\n",
       "</style>\n",
       "<table border=\"1\" class=\"dataframe\">\n",
       "  <thead>\n",
       "    <tr style=\"text-align: right;\">\n",
       "      <th></th>\n",
       "      <th>content_token</th>\n",
       "      <th>url</th>\n",
       "    </tr>\n",
       "  </thead>\n",
       "  <tbody>\n",
       "    <tr>\n",
       "      <th>0</th>\n",
       "      <td>first , create a list containing one hundred different colors . each color should be an rgb tuple , ranging from zero to one . there are many ways to do this , but i just typed in my favorite colors by hand .</td>\n",
       "      <td>https://stackoverflow.com/a/18622422</td>\n",
       "    </tr>\n",
       "    <tr>\n",
       "      <th>1</th>\n",
       "      <td>i 've had a similar problem and i 've ended up adding a counter into the album equivalent . if the count is 0 and the operation is delete ( ) , then the album object is delete()d .</td>\n",
       "      <td>https://stackoverflow.com/a/5185748</td>\n",
       "    </tr>\n",
       "    <tr>\n",
       "      <th>2</th>\n",
       "      <td>two options that do n't require copying the whole set :</td>\n",
       "      <td>https://stackoverflow.com/a/59841</td>\n",
       "    </tr>\n",
       "    <tr>\n",
       "      <th>3</th>\n",
       "      <td>i do n't think you can do this in one database query using django orm . but if it does n't bothers you , i would create a custom method on a model :</td>\n",
       "      <td>https://stackoverflow.com/a/2659296</td>\n",
       "    </tr>\n",
       "    <tr>\n",
       "      <th>4</th>\n",
       "      <td>for python 3 :</td>\n",
       "      <td>https://stackoverflow.com/a/26097790</td>\n",
       "    </tr>\n",
       "  </tbody>\n",
       "</table>\n",
       "</div>"
      ],
      "text/plain": [
       "                                                                                                                                                                                                      content_token  \\\n",
       "0  first , create a list containing one hundred different colors . each color should be an rgb tuple , ranging from zero to one . there are many ways to do this , but i just typed in my favorite colors by hand .   \n",
       "1  i 've had a similar problem and i 've ended up adding a counter into the album equivalent . if the count is 0 and the operation is delete ( ) , then the album object is delete()d .                               \n",
       "2  two options that do n't require copying the whole set :                                                                                                                                                            \n",
       "3  i do n't think you can do this in one database query using django orm . but if it does n't bothers you , i would create a custom method on a model :                                                               \n",
       "4  for python 3 :                                                                                                                                                                                                     \n",
       "\n",
       "                                    url  \n",
       "0  https://stackoverflow.com/a/18622422  \n",
       "1  https://stackoverflow.com/a/5185748   \n",
       "2  https://stackoverflow.com/a/59841     \n",
       "3  https://stackoverflow.com/a/2659296   \n",
       "4  https://stackoverflow.com/a/26097790  "
      ]
     },
     "execution_count": 267,
     "metadata": {},
     "output_type": "execute_result"
    }
   ],
   "source": [
    "test.head()"
   ]
  },
  {
   "cell_type": "code",
   "execution_count": 268,
   "metadata": {},
   "outputs": [
    {
     "data": {
      "text/html": [
       "<div>\n",
       "<style scoped>\n",
       "    .dataframe tbody tr th:only-of-type {\n",
       "        vertical-align: middle;\n",
       "    }\n",
       "\n",
       "    .dataframe tbody tr th {\n",
       "        vertical-align: top;\n",
       "    }\n",
       "\n",
       "    .dataframe thead th {\n",
       "        text-align: right;\n",
       "    }\n",
       "</style>\n",
       "<table border=\"1\" class=\"dataframe\">\n",
       "  <thead>\n",
       "    <tr style=\"text-align: right;\">\n",
       "      <th></th>\n",
       "      <th>content_token</th>\n",
       "      <th>url</th>\n",
       "    </tr>\n",
       "  </thead>\n",
       "  <tbody>\n",
       "    <tr>\n",
       "      <th>0</th>\n",
       "      <td>if you read the docs you 'll see that the comment has an attribute ( unless it was deleted ) , so you should be able to do : response_text = ' good morning to you too , { } ! ' ... c.reply(response_text.format(c.author ) )</td>\n",
       "      <td>https://stackoverflow.com/a/39419165</td>\n",
       "    </tr>\n",
       "    <tr>\n",
       "      <th>1</th>\n",
       "      <td>i think it would be better to use \" cls \" :</td>\n",
       "      <td>https://stackoverflow.com/a/28626798</td>\n",
       "    </tr>\n",
       "    <tr>\n",
       "      <th>2</th>\n",
       "      <td>the best python gui toolkit is wxpython ( also known as wxwidgets ) .</td>\n",
       "      <td>https://stackoverflow.com/a/4252766</td>\n",
       "    </tr>\n",
       "    <tr>\n",
       "      <th>3</th>\n",
       "      <td>of course you could pass a list , but also you could just use * args . it sometimes depends on how you expect to use the function .</td>\n",
       "      <td>https://stackoverflow.com/a/32126746</td>\n",
       "    </tr>\n",
       "    <tr>\n",
       "      <th>4</th>\n",
       "      <td>yes and yes . you can get rid of the loops and it will speed up things :</td>\n",
       "      <td>https://stackoverflow.com/a/49798710</td>\n",
       "    </tr>\n",
       "  </tbody>\n",
       "</table>\n",
       "</div>"
      ],
      "text/plain": [
       "                                                                                                                                                                                                                    content_token  \\\n",
       "0  if you read the docs you 'll see that the comment has an attribute ( unless it was deleted ) , so you should be able to do : response_text = ' good morning to you too , { } ! ' ... c.reply(response_text.format(c.author ) )   \n",
       "1  i think it would be better to use \" cls \" :                                                                                                                                                                                      \n",
       "2  the best python gui toolkit is wxpython ( also known as wxwidgets ) .                                                                                                                                                            \n",
       "3  of course you could pass a list , but also you could just use * args . it sometimes depends on how you expect to use the function .                                                                                              \n",
       "4  yes and yes . you can get rid of the loops and it will speed up things :                                                                                                                                                         \n",
       "\n",
       "                                    url  \n",
       "0  https://stackoverflow.com/a/39419165  \n",
       "1  https://stackoverflow.com/a/28626798  \n",
       "2  https://stackoverflow.com/a/4252766   \n",
       "3  https://stackoverflow.com/a/32126746  \n",
       "4  https://stackoverflow.com/a/49798710  "
      ]
     },
     "execution_count": 268,
     "metadata": {},
     "output_type": "execute_result"
    }
   ],
   "source": [
    "valid.head()"
   ]
  },
  {
   "cell_type": "code",
   "execution_count": 269,
   "metadata": {},
   "outputs": [],
   "source": [
    "assert valid.shape[0] + test.shape[0] + train.shape[0] == content_token_df.shape[0],f'Row count mismatch.'"
   ]
  },
  {
   "cell_type": "markdown",
   "metadata": {},
   "source": [
    "# Write to file"
   ]
  },
  {
   "cell_type": "code",
   "execution_count": 270,
   "metadata": {},
   "outputs": [],
   "source": [
    "def write_to(df, filename, path='./data/stackoverflow/processed_data'):\n",
    "    \"Helper function to write processed files to disk.\"\n",
    "    out = Path(path)\n",
    "    out.mkdir(exist_ok=True)\n",
    "    df.content_token.to_csv(out/'{}.content_token'.format(filename), index=False)\n",
    "    df.url.to_csv(out/'{}.url'.format(filename), index=False)"
   ]
  },
  {
   "cell_type": "code",
   "execution_count": 271,
   "metadata": {},
   "outputs": [],
   "source": [
    "write_to(train, 'train')\n",
    "write_to(valid, 'valid')\n",
    "write_to(test, 'test')"
   ]
  },
  {
   "cell_type": "code",
   "execution_count": 272,
   "metadata": {},
   "outputs": [
    {
     "name": "stdout",
     "output_type": "stream",
     "text": [
      "total 178M\r\n",
      "drwxr-xr-x 4 root root 4.0K Nov 25 10:14 .\r\n",
      "drwxr-xr-x 7 root root 4.0K Nov 24 16:33 ..\r\n",
      "drwxr-xr-x 2 root root 4.0K Nov 25 10:14 .ipynb_checkpoints\r\n",
      "drwxr-xr-x 2 root root 4.0K Nov 25 10:49 raw\r\n",
      "-rw-r--r-- 1 root root  11M Nov 20 08:27 raw.csv\r\n",
      "-rw-r--r-- 1 root root  11M Nov 20 08:25 raw9756.csv\r\n",
      "-rw-r--r-- 1 root root  18M Nov 25 12:03 test.content_token\r\n",
      "-rw-r--r-- 1 root root 3.0M Nov 25 12:03 test.url\r\n",
      "-rw-r--r-- 1 root root  97M Nov 25 12:03 train.content_token\r\n",
      "-rw-r--r-- 1 root root  17M Nov 25 12:03 train.url\r\n",
      "-rw-r--r-- 1 root root  21M Nov 25 12:03 valid.content_token\r\n",
      "-rw-r--r-- 1 root root 3.6M Nov 25 12:03 valid.url\r\n"
     ]
    }
   ],
   "source": [
    "!ls -lah ./data/stackoverflow/processed_data"
   ]
  },
  {
   "cell_type": "code",
   "execution_count": null,
   "metadata": {},
   "outputs": [],
   "source": []
  }
 ],
 "metadata": {
  "kernelspec": {
   "display_name": "Python 3",
   "language": "python",
   "name": "python3"
  },
  "language_info": {
   "codemirror_mode": {
    "name": "ipython",
    "version": 3
   },
   "file_extension": ".py",
   "mimetype": "text/x-python",
   "name": "python",
   "nbconvert_exporter": "python",
   "pygments_lexer": "ipython3",
   "version": "3.6.4"
  }
 },
 "nbformat": 4,
 "nbformat_minor": 2
}
