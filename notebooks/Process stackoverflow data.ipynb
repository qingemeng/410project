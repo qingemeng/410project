{
 "cells": [
  {
   "cell_type": "markdown",
   "metadata": {},
   "source": [
    "# Process stackoverflow data"
   ]
  },
  {
   "cell_type": "code",
   "execution_count": 12,
   "metadata": {},
   "outputs": [],
   "source": [
    "%load_ext autoreload\n",
    "%autoreload 2\n",
    "\n",
    "from google.cloud import bigquery\n",
    "import ast\n",
    "import glob\n",
    "import re\n",
    "from pathlib import Path\n",
    "\n",
    "import astor\n",
    "import pandas as pd\n",
    "import spacy\n",
    "from tqdm import tqdm\n",
    "from nltk.tokenize import RegexpTokenizer\n",
    "from sklearn.model_selection import train_test_split\n",
    "\n",
    "from general_utils import apply_parallel, flattenlist\n",
    "\n",
    "EN = spacy.load('en')"
   ]
  },
  {
   "cell_type": "code",
   "execution_count": 13,
   "metadata": {},
   "outputs": [],
   "source": [
    "use_cache = False"
   ]
  },
  {
   "cell_type": "code",
   "execution_count": 14,
   "metadata": {},
   "outputs": [],
   "source": [
    "# TODO: use csv for now, fix credential issue\n",
    "# bigquery\n",
    "# https://console.cloud.google.com/bigquery?sq=784649123063:df10117d54ab4ef2a853ce5ba8e583dc\n",
    "\n",
    "# if use_cache == False: \n",
    "#     # get data from bigquery\n",
    "#     client = bigquery.Client()\n",
    "#     sql = \"\"\"\n",
    "#     SELECT id, body, last_activity_date, score, text as comment\n",
    "#     FROM `bigquery-public-data.stackoverflow.posts_answers` as answer\n",
    "#     JOIN (SELECT post_id, text from `bigquery-public-data.stackoverflow.comments`) as c on c.post_id = answer.id\n",
    "#     WHERE \n",
    "#     ( Date(last_activity_date) >= Date(\"2015-01-01\")\n",
    "#       AND \n",
    "#       answer.parent_id IN (\n",
    "#         SELECT id FROM `bigquery-public-data.stackoverflow.posts_questions`\n",
    "#         WHERE LOWER(tags) LIKE '%python%'\n",
    "#       ))\n",
    "\n",
    "#     \"\"\"\n",
    "#     df = client.query(sql).to_dataframe()\n",
    "#     df.to_csv(\"data/processed_data/stackoverflow/raw.csv\")"
   ]
  },
  {
   "cell_type": "markdown",
   "metadata": {},
   "source": [
    "# Read from csv files"
   ]
  },
  {
   "cell_type": "code",
   "execution_count": 26,
   "metadata": {},
   "outputs": [
    {
     "name": "stdout",
     "output_type": "stream",
     "text": [
      "CPU times: user 95.5 ms, sys: 7.03 ms, total: 103 ms\n",
      "Wall time: 102 ms\n"
     ]
    }
   ],
   "source": [
    "%%time\n",
    "# read from csv\n",
    "df = pd.read_csv(\"data/processed_data/stackoverflow/raw9756.csv\")"
   ]
  },
  {
   "cell_type": "code",
   "execution_count": 27,
   "metadata": {},
   "outputs": [
    {
     "data": {
      "text/html": [
       "<div>\n",
       "<style scoped>\n",
       "    .dataframe tbody tr th:only-of-type {\n",
       "        vertical-align: middle;\n",
       "    }\n",
       "\n",
       "    .dataframe tbody tr th {\n",
       "        vertical-align: top;\n",
       "    }\n",
       "\n",
       "    .dataframe thead th {\n",
       "        text-align: right;\n",
       "    }\n",
       "</style>\n",
       "<table border=\"1\" class=\"dataframe\">\n",
       "  <thead>\n",
       "    <tr style=\"text-align: right;\">\n",
       "      <th></th>\n",
       "      <th>id</th>\n",
       "      <th>body</th>\n",
       "      <th>last_activity_date</th>\n",
       "      <th>score</th>\n",
       "      <th>comment</th>\n",
       "    </tr>\n",
       "  </thead>\n",
       "  <tbody>\n",
       "    <tr>\n",
       "      <th>0</th>\n",
       "      <td>42182911</td>\n",
       "      <td>&lt;p&gt;Well, since its a regular expression you co...</td>\n",
       "      <td>2017-02-12 00:32:44.407 UTC</td>\n",
       "      <td>0</td>\n",
       "      <td>They're not mere regexes – otherwise, `&lt;NN&gt;+` ...</td>\n",
       "    </tr>\n",
       "    <tr>\n",
       "      <th>1</th>\n",
       "      <td>46213700</td>\n",
       "      <td>&lt;p&gt;&lt;a href=\"https://github.com/django/django/b...</td>\n",
       "      <td>2017-09-14 17:16:22.787 UTC</td>\n",
       "      <td>0</td>\n",
       "      <td>See my note about unpacking `self.credentials`...</td>\n",
       "    </tr>\n",
       "    <tr>\n",
       "      <th>2</th>\n",
       "      <td>51806306</td>\n",
       "      <td>&lt;p&gt;You can use font attribute of worksheet col...</td>\n",
       "      <td>2018-08-12 06:25:22.257 UTC</td>\n",
       "      <td>0</td>\n",
       "      <td>Hello, thanks for replying! After I run the co...</td>\n",
       "    </tr>\n",
       "    <tr>\n",
       "      <th>3</th>\n",
       "      <td>51159568</td>\n",
       "      <td>&lt;p&gt;You could just keep checking each future in...</td>\n",
       "      <td>2018-07-14 17:06:02.057 UTC</td>\n",
       "      <td>0</td>\n",
       "      <td>The solution with `wait` is exactly what I was...</td>\n",
       "    </tr>\n",
       "    <tr>\n",
       "      <th>4</th>\n",
       "      <td>51159568</td>\n",
       "      <td>&lt;p&gt;You could just keep checking each future in...</td>\n",
       "      <td>2018-07-14 17:06:02.057 UTC</td>\n",
       "      <td>0</td>\n",
       "      <td>Maybe, Except as you found out, it doesn't wor...</td>\n",
       "    </tr>\n",
       "  </tbody>\n",
       "</table>\n",
       "</div>"
      ],
      "text/plain": [
       "         id                                               body  \\\n",
       "0  42182911  <p>Well, since its a regular expression you co...   \n",
       "1  46213700  <p><a href=\"https://github.com/django/django/b...   \n",
       "2  51806306  <p>You can use font attribute of worksheet col...   \n",
       "3  51159568  <p>You could just keep checking each future in...   \n",
       "4  51159568  <p>You could just keep checking each future in...   \n",
       "\n",
       "            last_activity_date  score  \\\n",
       "0  2017-02-12 00:32:44.407 UTC      0   \n",
       "1  2017-09-14 17:16:22.787 UTC      0   \n",
       "2  2018-08-12 06:25:22.257 UTC      0   \n",
       "3  2018-07-14 17:06:02.057 UTC      0   \n",
       "4  2018-07-14 17:06:02.057 UTC      0   \n",
       "\n",
       "                                             comment  \n",
       "0  They're not mere regexes – otherwise, `<NN>+` ...  \n",
       "1  See my note about unpacking `self.credentials`...  \n",
       "2  Hello, thanks for replying! After I run the co...  \n",
       "3  The solution with `wait` is exactly what I was...  \n",
       "4  Maybe, Except as you found out, it doesn't wor...  "
      ]
     },
     "execution_count": 27,
     "metadata": {},
     "output_type": "execute_result"
    }
   ],
   "source": [
    "df.head()"
   ]
  },
  {
   "cell_type": "code",
   "execution_count": 29,
   "metadata": {},
   "outputs": [
    {
     "data": {
      "text/plain": [
       "(9756, 5)"
      ]
     },
     "execution_count": 29,
     "metadata": {},
     "output_type": "execute_result"
    }
   ],
   "source": [
    "df.shape"
   ]
  },
  {
   "cell_type": "code",
   "execution_count": 32,
   "metadata": {},
   "outputs": [],
   "source": [
    "def tokenize_text(text):\n",
    "    \"Apply tokenization using spacy to docstrings.\"\n",
    "    tokens = EN.tokenizer(text)\n",
    "    return [token.text.lower() for token in tokens if not token.is_space]\n",
    "\n",
    "\n",
    "def tokenize_code(text):\n",
    "    \"A very basic procedure for tokenizing code strings.\"\n",
    "    return RegexpTokenizer(r'\\w+').tokenize(text)\n"
   ]
  },
  {
   "cell_type": "code",
   "execution_count": null,
   "metadata": {},
   "outputs": [],
   "source": [
    "# separate code and human language\n"
   ]
  }
 ],
 "metadata": {
  "kernelspec": {
   "display_name": "Python 3",
   "language": "python",
   "name": "python3"
  },
  "language_info": {
   "codemirror_mode": {
    "name": "ipython",
    "version": 3
   },
   "file_extension": ".py",
   "mimetype": "text/x-python",
   "name": "python",
   "nbconvert_exporter": "python",
   "pygments_lexer": "ipython3",
   "version": "3.6.4"
  }
 },
 "nbformat": 4,
 "nbformat_minor": 2
}
