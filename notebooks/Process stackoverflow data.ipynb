{
 "cells": [
  {
   "cell_type": "markdown",
   "metadata": {},
   "source": [
    "# Process stackoverflow data"
   ]
  },
  {
   "cell_type": "code",
   "execution_count": 69,
   "metadata": {},
   "outputs": [
    {
     "name": "stdout",
     "output_type": "stream",
     "text": [
      "The autoreload extension is already loaded. To reload it, use:\n",
      "  %reload_ext autoreload\n"
     ]
    }
   ],
   "source": [
    "%load_ext autoreload\n",
    "%autoreload 2\n",
    "\n",
    "from google.cloud import bigquery\n",
    "import ast\n",
    "import glob\n",
    "import re\n",
    "from pathlib import Path\n",
    "\n",
    "import astor\n",
    "import pandas as pd\n",
    "import spacy\n",
    "from tqdm import tqdm\n",
    "from nltk.tokenize import RegexpTokenizer\n",
    "from sklearn.model_selection import train_test_split\n",
    "\n",
    "from general_utils import apply_parallel, flattenlist\n",
    "from bs4 import BeautifulSoup\n",
    "\n",
    "EN = spacy.load('en')\n",
    "pd.set_option('display.max_colwidth', -1)"
   ]
  },
  {
   "cell_type": "code",
   "execution_count": 70,
   "metadata": {},
   "outputs": [],
   "source": [
    "use_cache = False"
   ]
  },
  {
   "cell_type": "code",
   "execution_count": 71,
   "metadata": {},
   "outputs": [],
   "source": [
    "# TODO: use csv for now, fix credential issue\n",
    "# bigquery\n",
    "# https://console.cloud.google.com/bigquery?sq=784649123063:df10117d54ab4ef2a853ce5ba8e583dc\n",
    "\n",
    "# if use_cache == False: \n",
    "#     # get data from bigquery\n",
    "#     client = bigquery.Client()\n",
    "#     sql = \"\"\"\n",
    "#     SELECT id, body, last_activity_date, score, text as comment\n",
    "#     FROM `bigquery-public-data.stackoverflow.posts_answers` as answer\n",
    "#     JOIN (SELECT post_id, text from `bigquery-public-data.stackoverflow.comments`) as c on c.post_id = answer.id\n",
    "#     WHERE \n",
    "#     ( Date(last_activity_date) >= Date(\"2015-01-01\")\n",
    "#       AND \n",
    "#       answer.parent_id IN (\n",
    "#         SELECT id FROM `bigquery-public-data.stackoverflow.posts_questions`\n",
    "#         WHERE LOWER(tags) LIKE '%python%'\n",
    "#       ))\n",
    "\n",
    "#     \"\"\"\n",
    "#     df = client.query(sql).to_dataframe()\n",
    "#     df.to_csv(\"data/processed_data/stackoverflow/raw.csv\")"
   ]
  },
  {
   "cell_type": "markdown",
   "metadata": {},
   "source": [
    "# Read from csv files"
   ]
  },
  {
   "cell_type": "code",
   "execution_count": 72,
   "metadata": {},
   "outputs": [
    {
     "name": "stdout",
     "output_type": "stream",
     "text": [
      "CPU times: user 118 ms, sys: 4.57 ms, total: 123 ms\n",
      "Wall time: 122 ms\n"
     ]
    }
   ],
   "source": [
    "%%time\n",
    "# read from csv\n",
    "df = pd.read_csv(\"data/stackoverflow/processed_data/raw9756.csv\")"
   ]
  },
  {
   "cell_type": "code",
   "execution_count": 73,
   "metadata": {},
   "outputs": [
    {
     "data": {
      "text/html": [
       "<div>\n",
       "<style scoped>\n",
       "    .dataframe tbody tr th:only-of-type {\n",
       "        vertical-align: middle;\n",
       "    }\n",
       "\n",
       "    .dataframe tbody tr th {\n",
       "        vertical-align: top;\n",
       "    }\n",
       "\n",
       "    .dataframe thead th {\n",
       "        text-align: right;\n",
       "    }\n",
       "</style>\n",
       "<table border=\"1\" class=\"dataframe\">\n",
       "  <thead>\n",
       "    <tr style=\"text-align: right;\">\n",
       "      <th></th>\n",
       "      <th>id</th>\n",
       "      <th>body</th>\n",
       "      <th>last_activity_date</th>\n",
       "      <th>score</th>\n",
       "      <th>comment</th>\n",
       "    </tr>\n",
       "  </thead>\n",
       "  <tbody>\n",
       "    <tr>\n",
       "      <th>0</th>\n",
       "      <td>42182911</td>\n",
       "      <td>&lt;p&gt;Well, since its a regular expression you could just escape it.&lt;/p&gt;\\n\\n&lt;pre&gt;&lt;code&gt;Stat: {&amp;lt;CD&amp;gt;&amp;lt;\\%&amp;gt;(&amp;lt;NN&amp;gt;+|&amp;lt;VBN&amp;gt;|JJ)?}\\n&lt;/code&gt;&lt;/pre&gt;\\n\\n&lt;p&gt;You could also have a list of keywords you want to replace, so that your chunk rules don't become excessively long.&lt;/p&gt;\\n\\n&lt;p&gt;e.g.&lt;/p&gt;\\n\\n&lt;pre&gt;&lt;code&gt;s = '56% rise and 75% fall'\\ngen_replacements = [('%', 'PERCENTAGE'), ('perc.', 'PERCENTAGE'), etc]\\nfor ndl, rpl in gen_replacements:\\n    s = s.replace(' %s ' % ndl, ' %s ' % rpl)\\n\\nStat: {&amp;lt;CD&amp;gt;&amp;lt;PERCENTAGE&amp;gt;(&amp;lt;NN&amp;gt;+|&amp;lt;VBN&amp;gt;|JJ)?}\\n&lt;/code&gt;&lt;/pre&gt;</td>\n",
       "      <td>2017-02-12 00:32:44.407 UTC</td>\n",
       "      <td>0</td>\n",
       "      <td>They're not mere regexes – otherwise, `&lt;NN&gt;+` would be interpreted as *\"one lower-than, two N's, and one or more greater-than's\"*, instead of *\"one or more nouns\"*. There is an additional translation step. And they are applied to the sequence of tags, not the text itself.</td>\n",
       "    </tr>\n",
       "    <tr>\n",
       "      <th>1</th>\n",
       "      <td>46213700</td>\n",
       "      <td>&lt;p&gt;&lt;a href=\"https://github.com/django/django/blob/1.11/django/contrib/auth/views.py#L94\" rel=\"nofollow noreferrer\"&gt;Django isn't checking &lt;code&gt;next&lt;/code&gt; in &lt;code&gt;extra_context&lt;/code&gt;&lt;/a&gt; but in &lt;code&gt;GET&lt;/code&gt; and &lt;code&gt;POST&lt;/code&gt; params. &lt;/p&gt;\\n\\n&lt;p&gt;&lt;a href=\"https://github.com/django/django/blob/1.11/django/contrib/auth/views.py#L129\" rel=\"nofollow noreferrer\"&gt;&lt;code&gt;extra_context&lt;/code&gt; is used to update your template context&lt;/a&gt;. So if you want to pass the values for variables to your template you can set those with &lt;code&gt;extra_context&lt;/code&gt;.&lt;/p&gt;\\n\\n&lt;p&gt;However, you can fix your test by either &lt;a href=\"https://github.com/django/django/blob/1.11/django/contrib/auth/views.py#L104\" rel=\"nofollow noreferrer\"&gt;setting &lt;code&gt;LOGIN_REDIRECT_URL&lt;/code&gt; in &lt;code&gt;settings.py&lt;/code&gt;&lt;/a&gt; or passing next as a POST or GET param.&lt;/p&gt;\\n\\n&lt;pre&gt;&lt;code&gt;params = dict(**self.credentials, next=reverse(\"home:index\"))\\nresponse = self.client.post(\\n    url,\\n    params,\\n    follow=True\\n)\\n&lt;/code&gt;&lt;/pre&gt;\\n\\n&lt;h3&gt;NOTE:&lt;/h3&gt;\\n\\n&lt;blockquote&gt;\\n  &lt;p&gt;&lt;code&gt;self.credentials&lt;/code&gt; should be unpacked in the dict being applied to &lt;code&gt;self.data&lt;/code&gt;.&lt;/p&gt;\\n&lt;/blockquote&gt;\\n\\n&lt;pre&gt;&lt;code&gt;self.data = dict(\\n    **self.credentials,\\n    next=reverse(\"administration:dashboard\")\\n)\\n&lt;/code&gt;&lt;/pre&gt;\\n\\n&lt;p&gt;If you wanted to test without making this change, I can recommend another way to test this.&lt;/p&gt;\\n\\n&lt;p&gt;You need to render your template in a browser and fill out the login form. This way your browser client will make the &lt;code&gt;POST&lt;/code&gt; request with &lt;code&gt;next&lt;/code&gt; passed as a parameter.\\nYou can get this done with a headless browser using &lt;code&gt;selenium webdriver&lt;/code&gt;.&lt;/p&gt;</td>\n",
       "      <td>2017-09-14 17:16:22.787 UTC</td>\n",
       "      <td>0</td>\n",
       "      <td>See my note about unpacking `self.credentials` in the `dict` assigned to self.data</td>\n",
       "    </tr>\n",
       "    <tr>\n",
       "      <th>2</th>\n",
       "      <td>51806306</td>\n",
       "      <td>&lt;p&gt;You can use font attribute of worksheet column, something like this:&lt;/p&gt;\\n\\n&lt;pre&gt;&lt;code&gt;&amp;gt;&amp;gt;&amp;gt; my_col = sheet.column_dimensions['A']\\n&amp;gt;&amp;gt;&amp;gt; my_col.font = italic24Font\\n&lt;/code&gt;&lt;/pre&gt;\\n\\n&lt;p&gt;But, note that this applies only to cells created (in Excel). If you want to apply styles to entire column then you must apply the style to each cell by iteration.&lt;/p&gt;</td>\n",
       "      <td>2018-08-12 06:25:22.257 UTC</td>\n",
       "      <td>0</td>\n",
       "      <td>Hello, thanks for replying! After I run the code, I opened the file test.xlsx and the whole of column A seems to have disappeared. What went wrong</td>\n",
       "    </tr>\n",
       "    <tr>\n",
       "      <th>3</th>\n",
       "      <td>51159568</td>\n",
       "      <td>&lt;p&gt;You could just keep checking each future in the sequence till you find one that is done.&lt;/p&gt;\\n\\n&lt;pre&gt;&lt;code&gt;from collections import deque\\npool = concurrent.futures.ThreadPoolExecutor(max_workers = 4)\\n\\nfutures = deque(pool.submit(g,i) for i in range (4))\\nj = 4\\nresult = False\\nwhile not result:\\n    while not futures[0].done():\\n        futures.rotate()\\n    future = futures.popleft()\\n    result = future.result()\\n    if not result:\\n        j += 1\\n        futures.append(pool.submit(g,j))\\n&lt;/code&gt;&lt;/pre&gt;\\n\\n&lt;hr&gt;\\n\\n&lt;p&gt;Here is a similar solution using &lt;code&gt;concurrent.futures.wait&lt;/code&gt;.&lt;br&gt;\\nFirst a callable for testing purposes:&lt;/p&gt;\\n\\n&lt;pre&gt;&lt;code&gt;import random\\nclass F:\\n    def __init__(self, threshold=.03):\\n        self._bool = random.random() &amp;lt; threshold\\n    def __call__(self, n):\\n        self.n = n\\n        time.sleep(random.random())\\n        return self\\n    def __bool__(self):\\n        return self._bool\\n    def __str__(self):\\n        return f'I am number {self.n}'\\n    def __repr__(self):\\n        return f'I am number {self.n}'\\n&lt;/code&gt;&lt;/pre&gt;\\n\\n&lt;p&gt;Solution&lt;/p&gt;\\n\\n&lt;pre&gt;&lt;code&gt;pool = concurrent.futures.ThreadPoolExecutor(max_workers = 4)\\nj = 4\\nfutures = [pool.submit(F(),i) for i in range(j)]\\nresult = False\\nwhile not result:\\n    #print(f'there are {len(futures)} futures')\\n    maybe_futures = concurrent.futures.wait(futures, return_when='FIRST_COMPLETED')\\n    futures = maybe_futures.not_done\\n    # more than one may have completed(?)\\n    for future in maybe_futures.done:\\n        temp = future.result()\\n        if not temp:\\n            j += 1\\n            futures.add(pool.submit(F(),j))\\n        else:\\n            result = temp\\n            break\\n&lt;/code&gt;&lt;/pre&gt;\\n\\n&lt;hr&gt;\\n\\n&lt;p&gt;Another solution using a callback (uses the callable &lt;em&gt;above&lt;/em&gt;): not sure what happens if a future completes before the callback gets added.&lt;/p&gt;\\n\\n&lt;pre&gt;&lt;code&gt;completed_futures = collections.deque()\\nresult = False\\ndef callback(future, completed=completed_futures):\\n    completed.append(future)\\n\\nj = 4\\n\\nwith concurrent.futures.ThreadPoolExecutor(max_workers = 4) as pool:\\n    #initial tasks\\n    for i in range(j):\\n        future = pool.submit(F(),i)\\n        future.add_done_callback(callback)\\n    while not result:    # is this the same as - while True: ?\\n        while not completed_futures:\\n            pass\\n        while completed_futures:\\n            future = completed_futures.popleft()\\n            result = future.result()\\n            if result:\\n                break\\n            j += 1\\n            future = pool.submit(F(),j)\\n            future.add_done_callback(callback)\\nprint(result)\\n&lt;/code&gt;&lt;/pre&gt;</td>\n",
       "      <td>2018-07-14 17:06:02.057 UTC</td>\n",
       "      <td>0</td>\n",
       "      <td>The solution with `wait` is exactly what I was looking for! But there is a problem in the `for` loop line 9: `futures` is initialized with `list(maybe_futures.not_done)` at each iteration, so the elements appended are lost.</td>\n",
       "    </tr>\n",
       "    <tr>\n",
       "      <th>4</th>\n",
       "      <td>51159568</td>\n",
       "      <td>&lt;p&gt;You could just keep checking each future in the sequence till you find one that is done.&lt;/p&gt;\\n\\n&lt;pre&gt;&lt;code&gt;from collections import deque\\npool = concurrent.futures.ThreadPoolExecutor(max_workers = 4)\\n\\nfutures = deque(pool.submit(g,i) for i in range (4))\\nj = 4\\nresult = False\\nwhile not result:\\n    while not futures[0].done():\\n        futures.rotate()\\n    future = futures.popleft()\\n    result = future.result()\\n    if not result:\\n        j += 1\\n        futures.append(pool.submit(g,j))\\n&lt;/code&gt;&lt;/pre&gt;\\n\\n&lt;hr&gt;\\n\\n&lt;p&gt;Here is a similar solution using &lt;code&gt;concurrent.futures.wait&lt;/code&gt;.&lt;br&gt;\\nFirst a callable for testing purposes:&lt;/p&gt;\\n\\n&lt;pre&gt;&lt;code&gt;import random\\nclass F:\\n    def __init__(self, threshold=.03):\\n        self._bool = random.random() &amp;lt; threshold\\n    def __call__(self, n):\\n        self.n = n\\n        time.sleep(random.random())\\n        return self\\n    def __bool__(self):\\n        return self._bool\\n    def __str__(self):\\n        return f'I am number {self.n}'\\n    def __repr__(self):\\n        return f'I am number {self.n}'\\n&lt;/code&gt;&lt;/pre&gt;\\n\\n&lt;p&gt;Solution&lt;/p&gt;\\n\\n&lt;pre&gt;&lt;code&gt;pool = concurrent.futures.ThreadPoolExecutor(max_workers = 4)\\nj = 4\\nfutures = [pool.submit(F(),i) for i in range(j)]\\nresult = False\\nwhile not result:\\n    #print(f'there are {len(futures)} futures')\\n    maybe_futures = concurrent.futures.wait(futures, return_when='FIRST_COMPLETED')\\n    futures = maybe_futures.not_done\\n    # more than one may have completed(?)\\n    for future in maybe_futures.done:\\n        temp = future.result()\\n        if not temp:\\n            j += 1\\n            futures.add(pool.submit(F(),j))\\n        else:\\n            result = temp\\n            break\\n&lt;/code&gt;&lt;/pre&gt;\\n\\n&lt;hr&gt;\\n\\n&lt;p&gt;Another solution using a callback (uses the callable &lt;em&gt;above&lt;/em&gt;): not sure what happens if a future completes before the callback gets added.&lt;/p&gt;\\n\\n&lt;pre&gt;&lt;code&gt;completed_futures = collections.deque()\\nresult = False\\ndef callback(future, completed=completed_futures):\\n    completed.append(future)\\n\\nj = 4\\n\\nwith concurrent.futures.ThreadPoolExecutor(max_workers = 4) as pool:\\n    #initial tasks\\n    for i in range(j):\\n        future = pool.submit(F(),i)\\n        future.add_done_callback(callback)\\n    while not result:    # is this the same as - while True: ?\\n        while not completed_futures:\\n            pass\\n        while completed_futures:\\n            future = completed_futures.popleft()\\n            result = future.result()\\n            if result:\\n                break\\n            j += 1\\n            future = pool.submit(F(),j)\\n            future.add_done_callback(callback)\\nprint(result)\\n&lt;/code&gt;&lt;/pre&gt;</td>\n",
       "      <td>2018-07-14 17:06:02.057 UTC</td>\n",
       "      <td>0</td>\n",
       "      <td>Maybe, Except as you found out, it doesn't work the way you want it to.  The source is [here](https://github.com/python/cpython/blob/3.7/Lib/concurrent/futures/_base.py#L196) - it makes a set of the `fs` argument so you cannot add to it after it is evaluated.</td>\n",
       "    </tr>\n",
       "  </tbody>\n",
       "</table>\n",
       "</div>"
      ],
      "text/plain": [
       "         id  \\\n",
       "0  42182911   \n",
       "1  46213700   \n",
       "2  51806306   \n",
       "3  51159568   \n",
       "4  51159568   \n",
       "\n",
       "                                                                                                                                                                                                                                                                                                                                                                                                                                                                                                                                                                                                                                                                                                                                                                                                                                                                                                                                                                                                                                                                                                                                                                                                                                                                                                                                                                                                                                                                                                                                                                                                                                                                                                                                                                                                                                                                                                                                                                                                                                                                                                                                                                                                                                                                                                                                                                                                                                                                                                                                                                                                                                                                                                                                                                          body  \\\n",
       "0  <p>Well, since its a regular expression you could just escape it.</p>\\n\\n<pre><code>Stat: {&lt;CD&gt;&lt;\\%&gt;(&lt;NN&gt;+|&lt;VBN&gt;|JJ)?}\\n</code></pre>\\n\\n<p>You could also have a list of keywords you want to replace, so that your chunk rules don't become excessively long.</p>\\n\\n<p>e.g.</p>\\n\\n<pre><code>s = '56% rise and 75% fall'\\ngen_replacements = [('%', 'PERCENTAGE'), ('perc.', 'PERCENTAGE'), etc]\\nfor ndl, rpl in gen_replacements:\\n    s = s.replace(' %s ' % ndl, ' %s ' % rpl)\\n\\nStat: {&lt;CD&gt;&lt;PERCENTAGE&gt;(&lt;NN&gt;+|&lt;VBN&gt;|JJ)?}\\n</code></pre>                                                                                                                                                                                                                                                                                                                                                                                                                                                                                                                                                                                                                                                                                                                                                                                                                                                                                                                                                                                                                                                                                                                                                                                                                                                                                                                                                                                                                                                                                                                                                                                                                                                                                                                                                                                                                                                                                                                                                                                                                                                                                                                                                                             \n",
       "1  <p><a href=\"https://github.com/django/django/blob/1.11/django/contrib/auth/views.py#L94\" rel=\"nofollow noreferrer\">Django isn't checking <code>next</code> in <code>extra_context</code></a> but in <code>GET</code> and <code>POST</code> params. </p>\\n\\n<p><a href=\"https://github.com/django/django/blob/1.11/django/contrib/auth/views.py#L129\" rel=\"nofollow noreferrer\"><code>extra_context</code> is used to update your template context</a>. So if you want to pass the values for variables to your template you can set those with <code>extra_context</code>.</p>\\n\\n<p>However, you can fix your test by either <a href=\"https://github.com/django/django/blob/1.11/django/contrib/auth/views.py#L104\" rel=\"nofollow noreferrer\">setting <code>LOGIN_REDIRECT_URL</code> in <code>settings.py</code></a> or passing next as a POST or GET param.</p>\\n\\n<pre><code>params = dict(**self.credentials, next=reverse(\"home:index\"))\\nresponse = self.client.post(\\n    url,\\n    params,\\n    follow=True\\n)\\n</code></pre>\\n\\n<h3>NOTE:</h3>\\n\\n<blockquote>\\n  <p><code>self.credentials</code> should be unpacked in the dict being applied to <code>self.data</code>.</p>\\n</blockquote>\\n\\n<pre><code>self.data = dict(\\n    **self.credentials,\\n    next=reverse(\"administration:dashboard\")\\n)\\n</code></pre>\\n\\n<p>If you wanted to test without making this change, I can recommend another way to test this.</p>\\n\\n<p>You need to render your template in a browser and fill out the login form. This way your browser client will make the <code>POST</code> request with <code>next</code> passed as a parameter.\\nYou can get this done with a headless browser using <code>selenium webdriver</code>.</p>                                                                                                                                                                                                                                                                                                                                                                                                                                                                                                                                                                                                                                                                                                                                                                                                                                                                                                                                                                                                                                          \n",
       "2  <p>You can use font attribute of worksheet column, something like this:</p>\\n\\n<pre><code>&gt;&gt;&gt; my_col = sheet.column_dimensions['A']\\n&gt;&gt;&gt; my_col.font = italic24Font\\n</code></pre>\\n\\n<p>But, note that this applies only to cells created (in Excel). If you want to apply styles to entire column then you must apply the style to each cell by iteration.</p>                                                                                                                                                                                                                                                                                                                                                                                                                                                                                                                                                                                                                                                                                                                                                                                                                                                                                                                                                                                                                                                                                                                                                                                                                                                                                                                                                                                                                                                                                                                                                                                                                                                                                                                                                                                                                                                                                                                                                                                                                                                                                                                                                                                                                                                                                                                                                                                            \n",
       "3  <p>You could just keep checking each future in the sequence till you find one that is done.</p>\\n\\n<pre><code>from collections import deque\\npool = concurrent.futures.ThreadPoolExecutor(max_workers = 4)\\n\\nfutures = deque(pool.submit(g,i) for i in range (4))\\nj = 4\\nresult = False\\nwhile not result:\\n    while not futures[0].done():\\n        futures.rotate()\\n    future = futures.popleft()\\n    result = future.result()\\n    if not result:\\n        j += 1\\n        futures.append(pool.submit(g,j))\\n</code></pre>\\n\\n<hr>\\n\\n<p>Here is a similar solution using <code>concurrent.futures.wait</code>.<br>\\nFirst a callable for testing purposes:</p>\\n\\n<pre><code>import random\\nclass F:\\n    def __init__(self, threshold=.03):\\n        self._bool = random.random() &lt; threshold\\n    def __call__(self, n):\\n        self.n = n\\n        time.sleep(random.random())\\n        return self\\n    def __bool__(self):\\n        return self._bool\\n    def __str__(self):\\n        return f'I am number {self.n}'\\n    def __repr__(self):\\n        return f'I am number {self.n}'\\n</code></pre>\\n\\n<p>Solution</p>\\n\\n<pre><code>pool = concurrent.futures.ThreadPoolExecutor(max_workers = 4)\\nj = 4\\nfutures = [pool.submit(F(),i) for i in range(j)]\\nresult = False\\nwhile not result:\\n    #print(f'there are {len(futures)} futures')\\n    maybe_futures = concurrent.futures.wait(futures, return_when='FIRST_COMPLETED')\\n    futures = maybe_futures.not_done\\n    # more than one may have completed(?)\\n    for future in maybe_futures.done:\\n        temp = future.result()\\n        if not temp:\\n            j += 1\\n            futures.add(pool.submit(F(),j))\\n        else:\\n            result = temp\\n            break\\n</code></pre>\\n\\n<hr>\\n\\n<p>Another solution using a callback (uses the callable <em>above</em>): not sure what happens if a future completes before the callback gets added.</p>\\n\\n<pre><code>completed_futures = collections.deque()\\nresult = False\\ndef callback(future, completed=completed_futures):\\n    completed.append(future)\\n\\nj = 4\\n\\nwith concurrent.futures.ThreadPoolExecutor(max_workers = 4) as pool:\\n    #initial tasks\\n    for i in range(j):\\n        future = pool.submit(F(),i)\\n        future.add_done_callback(callback)\\n    while not result:    # is this the same as - while True: ?\\n        while not completed_futures:\\n            pass\\n        while completed_futures:\\n            future = completed_futures.popleft()\\n            result = future.result()\\n            if result:\\n                break\\n            j += 1\\n            future = pool.submit(F(),j)\\n            future.add_done_callback(callback)\\nprint(result)\\n</code></pre>   \n",
       "4  <p>You could just keep checking each future in the sequence till you find one that is done.</p>\\n\\n<pre><code>from collections import deque\\npool = concurrent.futures.ThreadPoolExecutor(max_workers = 4)\\n\\nfutures = deque(pool.submit(g,i) for i in range (4))\\nj = 4\\nresult = False\\nwhile not result:\\n    while not futures[0].done():\\n        futures.rotate()\\n    future = futures.popleft()\\n    result = future.result()\\n    if not result:\\n        j += 1\\n        futures.append(pool.submit(g,j))\\n</code></pre>\\n\\n<hr>\\n\\n<p>Here is a similar solution using <code>concurrent.futures.wait</code>.<br>\\nFirst a callable for testing purposes:</p>\\n\\n<pre><code>import random\\nclass F:\\n    def __init__(self, threshold=.03):\\n        self._bool = random.random() &lt; threshold\\n    def __call__(self, n):\\n        self.n = n\\n        time.sleep(random.random())\\n        return self\\n    def __bool__(self):\\n        return self._bool\\n    def __str__(self):\\n        return f'I am number {self.n}'\\n    def __repr__(self):\\n        return f'I am number {self.n}'\\n</code></pre>\\n\\n<p>Solution</p>\\n\\n<pre><code>pool = concurrent.futures.ThreadPoolExecutor(max_workers = 4)\\nj = 4\\nfutures = [pool.submit(F(),i) for i in range(j)]\\nresult = False\\nwhile not result:\\n    #print(f'there are {len(futures)} futures')\\n    maybe_futures = concurrent.futures.wait(futures, return_when='FIRST_COMPLETED')\\n    futures = maybe_futures.not_done\\n    # more than one may have completed(?)\\n    for future in maybe_futures.done:\\n        temp = future.result()\\n        if not temp:\\n            j += 1\\n            futures.add(pool.submit(F(),j))\\n        else:\\n            result = temp\\n            break\\n</code></pre>\\n\\n<hr>\\n\\n<p>Another solution using a callback (uses the callable <em>above</em>): not sure what happens if a future completes before the callback gets added.</p>\\n\\n<pre><code>completed_futures = collections.deque()\\nresult = False\\ndef callback(future, completed=completed_futures):\\n    completed.append(future)\\n\\nj = 4\\n\\nwith concurrent.futures.ThreadPoolExecutor(max_workers = 4) as pool:\\n    #initial tasks\\n    for i in range(j):\\n        future = pool.submit(F(),i)\\n        future.add_done_callback(callback)\\n    while not result:    # is this the same as - while True: ?\\n        while not completed_futures:\\n            pass\\n        while completed_futures:\\n            future = completed_futures.popleft()\\n            result = future.result()\\n            if result:\\n                break\\n            j += 1\\n            future = pool.submit(F(),j)\\n            future.add_done_callback(callback)\\nprint(result)\\n</code></pre>   \n",
       "\n",
       "            last_activity_date  score  \\\n",
       "0  2017-02-12 00:32:44.407 UTC  0       \n",
       "1  2017-09-14 17:16:22.787 UTC  0       \n",
       "2  2018-08-12 06:25:22.257 UTC  0       \n",
       "3  2018-07-14 17:06:02.057 UTC  0       \n",
       "4  2018-07-14 17:06:02.057 UTC  0       \n",
       "\n",
       "                                                                                                                                                                                                                                                                            comment  \n",
       "0  They're not mere regexes – otherwise, `<NN>+` would be interpreted as *\"one lower-than, two N's, and one or more greater-than's\"*, instead of *\"one or more nouns\"*. There is an additional translation step. And they are applied to the sequence of tags, not the text itself.  \n",
       "1  See my note about unpacking `self.credentials` in the `dict` assigned to self.data                                                                                                                                                                                                \n",
       "2  Hello, thanks for replying! After I run the code, I opened the file test.xlsx and the whole of column A seems to have disappeared. What went wrong                                                                                                                                \n",
       "3  The solution with `wait` is exactly what I was looking for! But there is a problem in the `for` loop line 9: `futures` is initialized with `list(maybe_futures.not_done)` at each iteration, so the elements appended are lost.                                                   \n",
       "4  Maybe, Except as you found out, it doesn't work the way you want it to.  The source is [here](https://github.com/python/cpython/blob/3.7/Lib/concurrent/futures/_base.py#L196) - it makes a set of the `fs` argument so you cannot add to it after it is evaluated.               "
      ]
     },
     "execution_count": 73,
     "metadata": {},
     "output_type": "execute_result"
    }
   ],
   "source": [
    "df.head()"
   ]
  },
  {
   "cell_type": "code",
   "execution_count": 74,
   "metadata": {},
   "outputs": [
    {
     "data": {
      "text/plain": [
       "(9756, 5)"
      ]
     },
     "execution_count": 74,
     "metadata": {},
     "output_type": "execute_result"
    }
   ],
   "source": [
    "df.shape"
   ]
  },
  {
   "cell_type": "code",
   "execution_count": 75,
   "metadata": {},
   "outputs": [],
   "source": [
    "def tokenize_text(text):\n",
    "    \"Apply tokenization using spacy to docstrings.\"\n",
    "    tokens = EN.tokenizer(text)\n",
    "    return [token.text.lower() for token in tokens if not token.is_space]\n",
    "\n",
    "\n",
    "def tokenize_code(text):\n",
    "    \"A very basic procedure for tokenizing code strings.\"\n",
    "    return RegexpTokenizer(r'\\w+').tokenize(text)\n"
   ]
  },
  {
   "cell_type": "markdown",
   "metadata": {},
   "source": [
    "# Aggregate comments"
   ]
  },
  {
   "cell_type": "code",
   "execution_count": 76,
   "metadata": {},
   "outputs": [],
   "source": [
    "# concat comments for each post\n",
    "\n",
    "grouped = df.groupby(['id', 'body','last_activity_date','score'],as_index=False).comment.agg(lambda x: \"\\n\".join(x))\n",
    "deduped_df = pd.DataFrame(grouped)"
   ]
  },
  {
   "cell_type": "code",
   "execution_count": 77,
   "metadata": {},
   "outputs": [
    {
     "data": {
      "text/html": [
       "<div>\n",
       "<style scoped>\n",
       "    .dataframe tbody tr th:only-of-type {\n",
       "        vertical-align: middle;\n",
       "    }\n",
       "\n",
       "    .dataframe tbody tr th {\n",
       "        vertical-align: top;\n",
       "    }\n",
       "\n",
       "    .dataframe thead th {\n",
       "        text-align: right;\n",
       "    }\n",
       "</style>\n",
       "<table border=\"1\" class=\"dataframe\">\n",
       "  <thead>\n",
       "    <tr style=\"text-align: right;\">\n",
       "      <th></th>\n",
       "      <th>id</th>\n",
       "      <th>body</th>\n",
       "      <th>last_activity_date</th>\n",
       "      <th>score</th>\n",
       "      <th>comment</th>\n",
       "    </tr>\n",
       "  </thead>\n",
       "  <tbody>\n",
       "    <tr>\n",
       "      <th>0</th>\n",
       "      <td>663054</td>\n",
       "      <td>&lt;p&gt;&lt;code&gt;close_fds&lt;/code&gt; &lt;em&gt;&lt;a href=\"http://docs.python.org/library/subprocess.html#subprocess.Popen\" rel=\"nofollow noreferrer\"&gt;&lt;strong&gt;is&lt;/strong&gt; supported on Windows&lt;/a&gt;&lt;/em&gt; (search for \"close_fds\" after that link) starting with Python 2.6 (if &lt;code&gt;stdin&lt;/code&gt;/&lt;code&gt;stdout&lt;/code&gt;/&lt;code&gt;stderr&lt;/code&gt; are not redirected). You might consider upgrading.&lt;/p&gt;\\n\\n&lt;p&gt;&lt;strong&gt;UPDATE 2017-11-16 after a down vote (why?)&lt;/strong&gt;: From the linked doc:&lt;/p&gt;\\n\\n&lt;blockquote&gt;\\n  &lt;p&gt;Note that on Windows, you cannot set close_fds to true and also\\n  redirect the standard handles by setting stdin, stdout or stderr.&lt;/p&gt;\\n&lt;/blockquote&gt;\\n\\n&lt;p&gt;So you can either &lt;code&gt;subprocess.call&lt;/code&gt; with &lt;code&gt;close_fds = True&lt;/code&gt; and not setting &lt;code&gt;stdin&lt;/code&gt;, &lt;code&gt;stdout&lt;/code&gt; or &lt;code&gt;stderr&lt;/code&gt; (the default) (or setting them to &lt;code&gt;None&lt;/code&gt;):&lt;/p&gt;\\n\\n&lt;blockquote&gt;\\n  &lt;p&gt;&lt;code&gt;subprocess.call(command, shell=True, close_fds = True)&lt;/code&gt;&lt;/p&gt;\\n&lt;/blockquote&gt;\\n\\n&lt;p&gt;or you &lt;code&gt;subprocess.call&lt;/code&gt; with &lt;code&gt;close_fds = False&lt;/code&gt;:&lt;/p&gt;\\n\\n&lt;blockquote&gt;\\n  &lt;p&gt;&lt;code&gt;subprocess.call(command, shell=True, stderr=errptr, stdout=outptr, close_fds = False)&lt;/code&gt;&lt;/p&gt;\\n&lt;/blockquote&gt;\\n\\n&lt;p&gt;or (Python &gt;= 3.2) you let &lt;code&gt;subprocess.call&lt;/code&gt; figure out the value of &lt;code&gt;close_fds&lt;/code&gt; by itself:&lt;/p&gt;\\n\\n&lt;blockquote&gt;\\n  &lt;p&gt;&lt;code&gt;subprocess.call(command, shell=True, stderr=errptr, stdout=outptr)&lt;/code&gt;&lt;/p&gt;\\n&lt;/blockquote&gt;</td>\n",
       "      <td>2017-11-16 09:48:40.917 UTC</td>\n",
       "      <td>0</td>\n",
       "      <td>@vaab See my update, where I'm trying to address this</td>\n",
       "    </tr>\n",
       "  </tbody>\n",
       "</table>\n",
       "</div>"
      ],
      "text/plain": [
       "       id  \\\n",
       "0  663054   \n",
       "\n",
       "                                                                                                                                                                                                                                                                                                                                                                                                                                                                                                                                                                                                                                                                                                                                                                                                                                                                                                                                                                                                                                                                                                                                                                                                                                                                                                                                                                                                                                                                                      body  \\\n",
       "0  <p><code>close_fds</code> <em><a href=\"http://docs.python.org/library/subprocess.html#subprocess.Popen\" rel=\"nofollow noreferrer\"><strong>is</strong> supported on Windows</a></em> (search for \"close_fds\" after that link) starting with Python 2.6 (if <code>stdin</code>/<code>stdout</code>/<code>stderr</code> are not redirected). You might consider upgrading.</p>\\n\\n<p><strong>UPDATE 2017-11-16 after a down vote (why?)</strong>: From the linked doc:</p>\\n\\n<blockquote>\\n  <p>Note that on Windows, you cannot set close_fds to true and also\\n  redirect the standard handles by setting stdin, stdout or stderr.</p>\\n</blockquote>\\n\\n<p>So you can either <code>subprocess.call</code> with <code>close_fds = True</code> and not setting <code>stdin</code>, <code>stdout</code> or <code>stderr</code> (the default) (or setting them to <code>None</code>):</p>\\n\\n<blockquote>\\n  <p><code>subprocess.call(command, shell=True, close_fds = True)</code></p>\\n</blockquote>\\n\\n<p>or you <code>subprocess.call</code> with <code>close_fds = False</code>:</p>\\n\\n<blockquote>\\n  <p><code>subprocess.call(command, shell=True, stderr=errptr, stdout=outptr, close_fds = False)</code></p>\\n</blockquote>\\n\\n<p>or (Python >= 3.2) you let <code>subprocess.call</code> figure out the value of <code>close_fds</code> by itself:</p>\\n\\n<blockquote>\\n  <p><code>subprocess.call(command, shell=True, stderr=errptr, stdout=outptr)</code></p>\\n</blockquote>   \n",
       "\n",
       "            last_activity_date  score  \\\n",
       "0  2017-11-16 09:48:40.917 UTC  0       \n",
       "\n",
       "                                                 comment  \n",
       "0  @vaab See my update, where I'm trying to address this  "
      ]
     },
     "execution_count": 77,
     "metadata": {},
     "output_type": "execute_result"
    }
   ],
   "source": [
    "deduped_df.head(1)"
   ]
  },
  {
   "cell_type": "code",
   "execution_count": 78,
   "metadata": {},
   "outputs": [
    {
     "data": {
      "text/plain": [
       "(8359, 5)"
      ]
     },
     "execution_count": 78,
     "metadata": {},
     "output_type": "execute_result"
    }
   ],
   "source": [
    "deduped_df.shape"
   ]
  },
  {
   "cell_type": "markdown",
   "metadata": {},
   "source": [
    "# Extract text from post body"
   ]
  },
  {
   "cell_type": "code",
   "execution_count": 165,
   "metadata": {
    "scrolled": true
   },
   "outputs": [
    {
     "name": "stdout",
     "output_type": "stream",
     "text": [
      "CPU times: user 15.4 s, sys: 0 ns, total: 15.4 s\n",
      "Wall time: 15.4 s\n"
     ]
    }
   ],
   "source": [
    "%%time\n",
    "\n",
    "content_list = []\n",
    "url_list = []\n",
    "\n",
    "for i, row in deduped_df.iterrows():\n",
    "    content = row.body\n",
    "    soup = BeautifulSoup(content, 'lxml')\n",
    "    if soup.code: soup.code.decompose()\n",
    "    tag_p = soup.p\n",
    "    tag_pre = soup.pre\n",
    "    text = ''\n",
    "    if tag_p: text = text + tag_p.get_text()\n",
    "    if tag_pre: text = text + tag_pre.get_text()\n",
    "    if text =='': \n",
    "        continue\n",
    "    content_list.append(' '.join(tokenize_text(text)))\n",
    "    url_list.append('https://stackoverflow.com/a/' + str(row.id))\n",
    "\n",
    "\n",
    "content_token_df = pd.DataFrame({'content_token': content_list, 'url': url_list})"
   ]
  },
  {
   "cell_type": "code",
   "execution_count": 168,
   "metadata": {},
   "outputs": [
    {
     "data": {
      "text/html": [
       "<div>\n",
       "<style scoped>\n",
       "    .dataframe tbody tr th:only-of-type {\n",
       "        vertical-align: middle;\n",
       "    }\n",
       "\n",
       "    .dataframe tbody tr th {\n",
       "        vertical-align: top;\n",
       "    }\n",
       "\n",
       "    .dataframe thead th {\n",
       "        text-align: right;\n",
       "    }\n",
       "</style>\n",
       "<table border=\"1\" class=\"dataframe\">\n",
       "  <thead>\n",
       "    <tr style=\"text-align: right;\">\n",
       "      <th></th>\n",
       "      <th>content_token</th>\n",
       "      <th>url</th>\n",
       "    </tr>\n",
       "  </thead>\n",
       "  <tbody>\n",
       "    <tr>\n",
       "      <th>0</th>\n",
       "      <td>is supported on windows ( search for \" close_fds \" after that link ) starting with python 2.6 ( if stdin / stdout / stderr are not redirected ) . you might consider upgrading .</td>\n",
       "      <td>https://stackoverflow.com/a/663054</td>\n",
       "    </tr>\n",
       "    <tr>\n",
       "      <th>1</th>\n",
       "      <td>this is because redirecting to a view misses the original context you use to render the page in the first place .</td>\n",
       "      <td>https://stackoverflow.com/a/1129743</td>\n",
       "    </tr>\n",
       "    <tr>\n",
       "      <th>2</th>\n",
       "      <td>you can use aes to encrypt your string with a password . though , you 'll want to chose a strong enough password so people ca n't easily guess what it is ( sorry i ca n't help it . i 'm a wannabe security weenie ) .</td>\n",
       "      <td>https://stackoverflow.com/a/2490354</td>\n",
       "    </tr>\n",
       "    <tr>\n",
       "      <th>3</th>\n",
       "      <td>you could install pylint using and use it via notepad++ 's run ... command ( f5):c:\\python34\\scripts\\pylint.bat \" $ ( full_current_path ) \"</td>\n",
       "      <td>https://stackoverflow.com/a/5350204</td>\n",
       "    </tr>\n",
       "    <tr>\n",
       "      <th>4</th>\n",
       "      <td>have you tried removing :</td>\n",
       "      <td>https://stackoverflow.com/a/6740499</td>\n",
       "    </tr>\n",
       "  </tbody>\n",
       "</table>\n",
       "</div>"
      ],
      "text/plain": [
       "                                                                                                                                                                                                             content_token  \\\n",
       "0  is supported on windows ( search for \" close_fds \" after that link ) starting with python 2.6 ( if stdin / stdout / stderr are not redirected ) . you might consider upgrading .                                          \n",
       "1  this is because redirecting to a view misses the original context you use to render the page in the first place .                                                                                                         \n",
       "2  you can use aes to encrypt your string with a password . though , you 'll want to chose a strong enough password so people ca n't easily guess what it is ( sorry i ca n't help it . i 'm a wannabe security weenie ) .   \n",
       "3  you could install pylint using and use it via notepad++ 's run ... command ( f5):c:\\python34\\scripts\\pylint.bat \" $ ( full_current_path ) \"                                                                               \n",
       "4  have you tried removing :                                                                                                                                                                                                 \n",
       "\n",
       "                                   url  \n",
       "0  https://stackoverflow.com/a/663054   \n",
       "1  https://stackoverflow.com/a/1129743  \n",
       "2  https://stackoverflow.com/a/2490354  \n",
       "3  https://stackoverflow.com/a/5350204  \n",
       "4  https://stackoverflow.com/a/6740499  "
      ]
     },
     "execution_count": 168,
     "metadata": {},
     "output_type": "execute_result"
    }
   ],
   "source": [
    "content_token_df.head()"
   ]
  },
  {
   "cell_type": "code",
   "execution_count": 169,
   "metadata": {},
   "outputs": [
    {
     "data": {
      "text/plain": [
       "(8190, 2)"
      ]
     },
     "execution_count": 169,
     "metadata": {},
     "output_type": "execute_result"
    }
   ],
   "source": [
    "content_token_df.shape"
   ]
  },
  {
   "cell_type": "markdown",
   "metadata": {},
   "source": [
    "# Partition train/test/validate data"
   ]
  },
  {
   "cell_type": "code",
   "execution_count": 226,
   "metadata": {},
   "outputs": [
    {
     "name": "stderr",
     "output_type": "stream",
     "text": [
      "/opt/conda/lib/python3.6/site-packages/sklearn/model_selection/_split.py:2026: FutureWarning: From version 0.21, test_size will always complement train_size unless both are specified.\n",
      "  FutureWarning)\n"
     ]
    }
   ],
   "source": [
    "# train, valid, test splits\n",
    "train, test = train_test_split(list(content_token_df.groupby('url')), train_size=0.87, shuffle=True, random_state=8081)\n",
    "train, valid = train_test_split(train, train_size=0.82, random_state=8081)"
   ]
  },
  {
   "cell_type": "code",
   "execution_count": 227,
   "metadata": {},
   "outputs": [],
   "source": [
    "train = pd.concat([d for _, d in train]).reset_index(drop=True)\n",
    "test = pd.concat([d for _, d in test]).reset_index(drop=True)\n",
    "valid = pd.concat([d for _, d in valid]).reset_index(drop=True)"
   ]
  },
  {
   "cell_type": "code",
   "execution_count": 228,
   "metadata": {},
   "outputs": [
    {
     "data": {
      "text/html": [
       "<div>\n",
       "<style scoped>\n",
       "    .dataframe tbody tr th:only-of-type {\n",
       "        vertical-align: middle;\n",
       "    }\n",
       "\n",
       "    .dataframe tbody tr th {\n",
       "        vertical-align: top;\n",
       "    }\n",
       "\n",
       "    .dataframe thead th {\n",
       "        text-align: right;\n",
       "    }\n",
       "</style>\n",
       "<table border=\"1\" class=\"dataframe\">\n",
       "  <thead>\n",
       "    <tr style=\"text-align: right;\">\n",
       "      <th></th>\n",
       "      <th>content_token</th>\n",
       "      <th>url</th>\n",
       "    </tr>\n",
       "  </thead>\n",
       "  <tbody>\n",
       "    <tr>\n",
       "      <th>0</th>\n",
       "      <td>please add \" html5lib \" or \" html.parser \"</td>\n",
       "      <td>https://stackoverflow.com/a/43595599</td>\n",
       "    </tr>\n",
       "    <tr>\n",
       "      <th>1</th>\n",
       "      <td>see the sample provided in apps script documentation,// logs information about any attachments in the first 100 inbox threads . var threads = gmailapp.getinboxthreads(0 , 100 ) ; var msgs = gmailapp.getmessagesforthreads(threads ) ; for ( var i = 0 ; i &lt; msgs.length ; i++ ) { for ( var j = 0 ; j &lt; msgs[i].length ; j++ ) { var attachments = msgs[i][j].getattachments ( ) ; for ( var k = 0 ; k &lt; attachments.length ; k++ ) { logger.log('message \" % s \" contains the attachment \" % s \" ( % s bytes ) ' , msgs[i][j].getsubject ( ) , attachments[k].getname ( ) , attachments[k].getsize ( ) ) ; } } }</td>\n",
       "      <td>https://stackoverflow.com/a/51473194</td>\n",
       "    </tr>\n",
       "    <tr>\n",
       "      <th>2</th>\n",
       "      <td>this not something i have tried , but i have found a paper , which states \" abaqus does not offer the geometric stiffness matrix as a standard output \" .</td>\n",
       "      <td>https://stackoverflow.com/a/43365314</td>\n",
       "    </tr>\n",
       "    <tr>\n",
       "      <th>3</th>\n",
       "      <td>you also can inherit from autofield and avoid the call to by overriding the check method.class myautofield(models . autofield ) : def check(self , * * kwargs ) : errors = models . field.check(**kwargs ) # errors.extend(self._check_primary_key ( ) ) return errors class mymodel(models . model ) : uid = models . uuidfield(primary_key = true , default = uuid.uuid4 , editable = false ) cod = myautofield(editable = false , unique = true )</td>\n",
       "      <td>https://stackoverflow.com/a/41769893</td>\n",
       "    </tr>\n",
       "    <tr>\n",
       "      <th>4</th>\n",
       "      <td>a .apply(lambda ... ) is a nice paradigm in pandas that will go over every row and perform a function . here i 'm making a list out of space - delimitated words in the description column via .split ( ) then converting it back into a string with a , separation via .join ( )</td>\n",
       "      <td>https://stackoverflow.com/a/50648425</td>\n",
       "    </tr>\n",
       "  </tbody>\n",
       "</table>\n",
       "</div>"
      ],
      "text/plain": [
       "                                                                                                                                                                                                                                                                                                                                                                                                                                                                                                                                                                                                          content_token  \\\n",
       "0  please add \" html5lib \" or \" html.parser \"                                                                                                                                                                                                                                                                                                                                                                                                                                                                                                                                                                             \n",
       "1  see the sample provided in apps script documentation,// logs information about any attachments in the first 100 inbox threads . var threads = gmailapp.getinboxthreads(0 , 100 ) ; var msgs = gmailapp.getmessagesforthreads(threads ) ; for ( var i = 0 ; i < msgs.length ; i++ ) { for ( var j = 0 ; j < msgs[i].length ; j++ ) { var attachments = msgs[i][j].getattachments ( ) ; for ( var k = 0 ; k < attachments.length ; k++ ) { logger.log('message \" % s \" contains the attachment \" % s \" ( % s bytes ) ' , msgs[i][j].getsubject ( ) , attachments[k].getname ( ) , attachments[k].getsize ( ) ) ; } } }   \n",
       "2  this not something i have tried , but i have found a paper , which states \" abaqus does not offer the geometric stiffness matrix as a standard output \" .                                                                                                                                                                                                                                                                                                                                                                                                                                                              \n",
       "3  you also can inherit from autofield and avoid the call to by overriding the check method.class myautofield(models . autofield ) : def check(self , * * kwargs ) : errors = models . field.check(**kwargs ) # errors.extend(self._check_primary_key ( ) ) return errors class mymodel(models . model ) : uid = models . uuidfield(primary_key = true , default = uuid.uuid4 , editable = false ) cod = myautofield(editable = false , unique = true )                                                                                                                                                                   \n",
       "4  a .apply(lambda ... ) is a nice paradigm in pandas that will go over every row and perform a function . here i 'm making a list out of space - delimitated words in the description column via .split ( ) then converting it back into a string with a , separation via .join ( )                                                                                                                                                                                                                                                                                                                                      \n",
       "\n",
       "                                    url  \n",
       "0  https://stackoverflow.com/a/43595599  \n",
       "1  https://stackoverflow.com/a/51473194  \n",
       "2  https://stackoverflow.com/a/43365314  \n",
       "3  https://stackoverflow.com/a/41769893  \n",
       "4  https://stackoverflow.com/a/50648425  "
      ]
     },
     "execution_count": 228,
     "metadata": {},
     "output_type": "execute_result"
    }
   ],
   "source": [
    "train.head()"
   ]
  },
  {
   "cell_type": "code",
   "execution_count": 229,
   "metadata": {},
   "outputs": [
    {
     "data": {
      "text/html": [
       "<div>\n",
       "<style scoped>\n",
       "    .dataframe tbody tr th:only-of-type {\n",
       "        vertical-align: middle;\n",
       "    }\n",
       "\n",
       "    .dataframe tbody tr th {\n",
       "        vertical-align: top;\n",
       "    }\n",
       "\n",
       "    .dataframe thead th {\n",
       "        text-align: right;\n",
       "    }\n",
       "</style>\n",
       "<table border=\"1\" class=\"dataframe\">\n",
       "  <thead>\n",
       "    <tr style=\"text-align: right;\">\n",
       "      <th></th>\n",
       "      <th>content_token</th>\n",
       "      <th>url</th>\n",
       "    </tr>\n",
       "  </thead>\n",
       "  <tbody>\n",
       "    <tr>\n",
       "      <th>0</th>\n",
       "      <td>if the input comes in one line , you could try to it . m , n = input().split ( ) m = int(m ) n = int(n ) k = m*n if k%2 ! = 0 : print('akshat ' ) else : print('malvika ' )</td>\n",
       "      <td>https://stackoverflow.com/a/47149069</td>\n",
       "    </tr>\n",
       "    <tr>\n",
       "      <th>1</th>\n",
       "      <td>you can do it with the ticktext input</td>\n",
       "      <td>https://stackoverflow.com/a/39621727</td>\n",
       "    </tr>\n",
       "    <tr>\n",
       "      <th>2</th>\n",
       "      <td>the first will always be executed according to this . so the if is not necessary .</td>\n",
       "      <td>https://stackoverflow.com/a/29797419</td>\n",
       "    </tr>\n",
       "    <tr>\n",
       "      <th>3</th>\n",
       "      <td>as with everything in beautifulsoup , you have many alternatives . for value pairs i tend to use function most : from bs4 import beautifulsoup html = ' ' ' \\ &lt; tr &gt; &lt; td &gt; project id:&lt;/td &gt; &lt; td &gt; &lt; span&gt;112120&lt;/span&gt;&lt;/td &gt; &lt; /tr &gt; ' '' soup = beautifulsoup(html , ' lxml ' ) # option 1 td = soup.select('td ' ) for name , value in zip(td , td[1 : ] ) : print(name.text , value.text ) # option 2 td = soup.find(lambda t : t.text.strip()=='project id:').parent.select('td ' ) for name , value in zip(td , td[1 : ] ) : print(name.text , value.text ) # option 3 td1 = soup.find(lambda t : t.text.strip()=='project id : ' ) td2 = td1.find_next('td ' ) print(td1.text , td2.text )</td>\n",
       "      <td>https://stackoverflow.com/a/51641874</td>\n",
       "    </tr>\n",
       "    <tr>\n",
       "      <th>4</th>\n",
       "      <td>something like this :</td>\n",
       "      <td>https://stackoverflow.com/a/45313084</td>\n",
       "    </tr>\n",
       "  </tbody>\n",
       "</table>\n",
       "</div>"
      ],
      "text/plain": [
       "                                                                                                                                                                                                                                                                                                                                                                                                                                                                                                                                                                                                                                                                                         content_token  \\\n",
       "0  if the input comes in one line , you could try to it . m , n = input().split ( ) m = int(m ) n = int(n ) k = m*n if k%2 ! = 0 : print('akshat ' ) else : print('malvika ' )                                                                                                                                                                                                                                                                                                                                                                                                                                                                                                                           \n",
       "1  you can do it with the ticktext input                                                                                                                                                                                                                                                                                                                                                                                                                                                                                                                                                                                                                                                                 \n",
       "2  the first will always be executed according to this . so the if is not necessary .                                                                                                                                                                                                                                                                                                                                                                                                                                                                                                                                                                                                                    \n",
       "3  as with everything in beautifulsoup , you have many alternatives . for value pairs i tend to use function most : from bs4 import beautifulsoup html = ' ' ' \\ < tr > < td > project id:</td > < td > < span>112120</span></td > < /tr > ' '' soup = beautifulsoup(html , ' lxml ' ) # option 1 td = soup.select('td ' ) for name , value in zip(td , td[1 : ] ) : print(name.text , value.text ) # option 2 td = soup.find(lambda t : t.text.strip()=='project id:').parent.select('td ' ) for name , value in zip(td , td[1 : ] ) : print(name.text , value.text ) # option 3 td1 = soup.find(lambda t : t.text.strip()=='project id : ' ) td2 = td1.find_next('td ' ) print(td1.text , td2.text )   \n",
       "4  something like this :                                                                                                                                                                                                                                                                                                                                                                                                                                                                                                                                                                                                                                                                                 \n",
       "\n",
       "                                    url  \n",
       "0  https://stackoverflow.com/a/47149069  \n",
       "1  https://stackoverflow.com/a/39621727  \n",
       "2  https://stackoverflow.com/a/29797419  \n",
       "3  https://stackoverflow.com/a/51641874  \n",
       "4  https://stackoverflow.com/a/45313084  "
      ]
     },
     "execution_count": 229,
     "metadata": {},
     "output_type": "execute_result"
    }
   ],
   "source": [
    "test.head()"
   ]
  },
  {
   "cell_type": "code",
   "execution_count": 230,
   "metadata": {},
   "outputs": [
    {
     "data": {
      "text/html": [
       "<div>\n",
       "<style scoped>\n",
       "    .dataframe tbody tr th:only-of-type {\n",
       "        vertical-align: middle;\n",
       "    }\n",
       "\n",
       "    .dataframe tbody tr th {\n",
       "        vertical-align: top;\n",
       "    }\n",
       "\n",
       "    .dataframe thead th {\n",
       "        text-align: right;\n",
       "    }\n",
       "</style>\n",
       "<table border=\"1\" class=\"dataframe\">\n",
       "  <thead>\n",
       "    <tr style=\"text-align: right;\">\n",
       "      <th></th>\n",
       "      <th>content_token</th>\n",
       "      <th>url</th>\n",
       "    </tr>\n",
       "  </thead>\n",
       "  <tbody>\n",
       "    <tr>\n",
       "      <th>0</th>\n",
       "      <td>you can use module . &gt; &gt; &gt; import datetime &gt; &gt; &gt; do = datetime.datetime.strptime(\"dec 17 2014 00:00:06 \" , \" % b % d % y % h:%m:%s \" ) &gt; &gt; &gt; do.strftime(\"%y-%m-%d % h:%m:%s \" ) ' 2014 - 12 - 17 00:00:06 '</td>\n",
       "      <td>https://stackoverflow.com/a/27900759</td>\n",
       "    </tr>\n",
       "    <tr>\n",
       "      <th>1</th>\n",
       "      <td>you could do something like this to get a list of all indices of the letter</td>\n",
       "      <td>https://stackoverflow.com/a/42908260</td>\n",
       "    </tr>\n",
       "    <tr>\n",
       "      <th>2</th>\n",
       "      <td>you can use this method : spreadsheets.create to create a spreadsheet .</td>\n",
       "      <td>https://stackoverflow.com/a/46687600</td>\n",
       "    </tr>\n",
       "    <tr>\n",
       "      <th>3</th>\n",
       "      <td>understood your question now :</td>\n",
       "      <td>https://stackoverflow.com/a/46901010</td>\n",
       "    </tr>\n",
       "    <tr>\n",
       "      <th>4</th>\n",
       "      <td>here 's a solution for what i understand the format of your data to be . please confirm exact format if i 've misunderstood .</td>\n",
       "      <td>https://stackoverflow.com/a/48995277</td>\n",
       "    </tr>\n",
       "  </tbody>\n",
       "</table>\n",
       "</div>"
      ],
      "text/plain": [
       "                                                                                                                                                                                                  content_token  \\\n",
       "0  you can use module . > > > import datetime > > > do = datetime.datetime.strptime(\"dec 17 2014 00:00:06 \" , \" % b % d % y % h:%m:%s \" ) > > > do.strftime(\"%y-%m-%d % h:%m:%s \" ) ' 2014 - 12 - 17 00:00:06 '   \n",
       "1  you could do something like this to get a list of all indices of the letter                                                                                                                                    \n",
       "2  you can use this method : spreadsheets.create to create a spreadsheet .                                                                                                                                        \n",
       "3  understood your question now :                                                                                                                                                                                 \n",
       "4  here 's a solution for what i understand the format of your data to be . please confirm exact format if i 've misunderstood .                                                                                  \n",
       "\n",
       "                                    url  \n",
       "0  https://stackoverflow.com/a/27900759  \n",
       "1  https://stackoverflow.com/a/42908260  \n",
       "2  https://stackoverflow.com/a/46687600  \n",
       "3  https://stackoverflow.com/a/46901010  \n",
       "4  https://stackoverflow.com/a/48995277  "
      ]
     },
     "execution_count": 230,
     "metadata": {},
     "output_type": "execute_result"
    }
   ],
   "source": [
    "valid.head()"
   ]
  },
  {
   "cell_type": "code",
   "execution_count": 231,
   "metadata": {},
   "outputs": [],
   "source": [
    "assert valid.shape[0] + test.shape[0] + train.shape[0] == content_token_df.shape[0],f'Row count mismatch.'"
   ]
  },
  {
   "cell_type": "markdown",
   "metadata": {},
   "source": [
    "# Write to file"
   ]
  },
  {
   "cell_type": "code",
   "execution_count": 232,
   "metadata": {},
   "outputs": [],
   "source": [
    "def write_to(df, filename, path='./data/stackoverflow/processed_data'):\n",
    "    \"Helper function to write processed files to disk.\"\n",
    "    out = Path(path)\n",
    "    out.mkdir(exist_ok=True)\n",
    "    df.content_token.to_csv(out/'{}.content_token'.format(filename), index=False)\n",
    "    df.url.to_csv(out/'{}.url'.format(filename), index=False)"
   ]
  },
  {
   "cell_type": "code",
   "execution_count": 233,
   "metadata": {},
   "outputs": [],
   "source": [
    "write_to(train, 'train')\n",
    "write_to(valid, 'valid')\n",
    "write_to(test, 'test')"
   ]
  },
  {
   "cell_type": "code",
   "execution_count": 235,
   "metadata": {},
   "outputs": [
    {
     "name": "stdout",
     "output_type": "stream",
     "text": [
      "total 23M\r\n",
      "drwxr-xr-x 3 root root 4.0K Nov 24 15:33 .\r\n",
      "drwxr-xr-x 4 5002 5002 4.0K Nov 20 08:14 ..\r\n",
      "drwxr-xr-x 2 root root 4.0K Nov 20 08:26 .ipynb_checkpoints\r\n",
      "-rw-r--r-- 1 root root  11M Nov 20 08:27 raw.csv\r\n",
      "-rw-r--r-- 1 root root  11M Nov 20 08:25 raw9756.csv\r\n",
      "-rw-r--r-- 1 root root 237K Nov 24 15:33 test.content_token\r\n",
      "-rw-r--r-- 1 root root  39K Nov 24 15:33 test.url\r\n",
      "-rw-r--r-- 1 root root 1.3M Nov 24 15:33 train.content_token\r\n",
      "-rw-r--r-- 1 root root 212K Nov 24 15:33 train.url\r\n",
      "-rw-r--r-- 1 root root 255K Nov 24 15:33 valid.content_token\r\n",
      "-rw-r--r-- 1 root root  47K Nov 24 15:33 valid.url\r\n"
     ]
    }
   ],
   "source": [
    "!ls -lah ./data/stackoverflow/processed_data"
   ]
  },
  {
   "cell_type": "code",
   "execution_count": null,
   "metadata": {},
   "outputs": [],
   "source": []
  }
 ],
 "metadata": {
  "kernelspec": {
   "display_name": "Python 3",
   "language": "python",
   "name": "python3"
  },
  "language_info": {
   "codemirror_mode": {
    "name": "ipython",
    "version": 3
   },
   "file_extension": ".py",
   "mimetype": "text/x-python",
   "name": "python",
   "nbconvert_exporter": "python",
   "pygments_lexer": "ipython3",
   "version": "3.6.4"
  }
 },
 "nbformat": 4,
 "nbformat_minor": 2
}
